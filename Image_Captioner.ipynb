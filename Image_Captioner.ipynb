{
  "nbformat": 4,
  "nbformat_minor": 0,
  "metadata": {
    "colab": {
      "name": "Image_Captioner.ipynb",
      "provenance": [],
      "collapsed_sections": []
    },
    "kernelspec": {
      "name": "python3",
      "display_name": "Python 3"
    },
    "language_info": {
      "name": "python"
    }
  },
  "cells": [
    {
      "cell_type": "code",
      "source": [
        "import matplotlib.pyplot as plt\n",
        "import pandas as pd\n",
        "import string\n",
        "import re\n",
        "import spacy\n",
        "from collections import Counter\n",
        "import pickle\n",
        "\n",
        "from google.colab import drive\n",
        "drive.mount('/content/drive')"
      ],
      "metadata": {
        "colab": {
          "base_uri": "https://localhost:8080/"
        },
        "id": "WT8IepblmV1U",
        "outputId": "53a61d83-3971-479e-e401-6605c82cfc2f"
      },
      "execution_count": 1,
      "outputs": [
        {
          "output_type": "stream",
          "name": "stdout",
          "text": [
            "Mounted at /content/drive\n"
          ]
        }
      ]
    },
    {
      "cell_type": "markdown",
      "source": [
        "#### Loading Images and Captions"
      ],
      "metadata": {
        "id": "KL8MSjkqqvOt"
      }
    },
    {
      "cell_type": "code",
      "source": [
        "with open('/content/drive/My Drive/Courses/DeepLearning/HW03/Q03/Datas/Flickr8k.token.txt') as f:\n",
        "    lines = f.readlines()\n",
        "caption_dict = {}\n",
        "image_dict = {}\n",
        "for line in lines:\n",
        "  try:\n",
        "    image_path = line.split('#')[0]\n",
        "    caption = line.split('#')[1]\n",
        "    image = plt.imread(\"/content/drive/My Drive/Courses/DeepLearning/HW03/Q03/Datas/Flicker8k_Dataset/\"+image_path)\n",
        "    image_dict[image_path] = image\n",
        "    caption_dict[image_path] =  caption\n",
        "  except:\n",
        "    pass"
      ],
      "metadata": {
        "id": "pXV4MGSZjse7"
      },
      "execution_count": null,
      "outputs": []
    },
    {
      "cell_type": "code",
      "source": [
        "with open('/content/drive/My Drive/Courses/DeepLearning/HW03/Q03/Datas/caption_dict.pkl', 'wb') as f:\n",
        "    pickle.dump(caption_dict, f)  # save it\n",
        "\n",
        "with open('/content/drive/My Drive/Courses/DeepLearning/HW03/Q03/Datas/image_dict.pkl', 'wb') as f:\n",
        "    pickle.dump(image_dict, f)  # save it"
      ],
      "metadata": {
        "id": "fVUebsz7EkD3"
      },
      "execution_count": null,
      "outputs": []
    },
    {
      "cell_type": "code",
      "source": [
        "# Train Datas\n",
        "with open('/content/drive/My Drive/Courses/DeepLearning/HW03/Q03/Datas/Flickr_8k.trainImages.txt') as f:\n",
        "  lines = f.readlines()\n",
        "datas = pd.DataFrame(columns=[\"caption\",\"image\"])\n",
        "\n",
        "for line in lines:\n",
        "  line = line.replace('\\n', '')\n",
        "  image = image_dict[line]\n",
        "  caption = caption_dict[line]\n",
        "  datas = datas.append({\"caption\":caption, \"image\":image}, ignore_index=True)\n",
        "\n",
        "# Test Datas\n",
        "with open('/content/drive/My Drive/Courses/DeepLearning/HW03/Q03/Datas/Flickr_8k.testImages.txt') as f:\n",
        "  lines = f.readlines()\n",
        "\n",
        "for line in lines:\n",
        "  line = line.replace('\\n', '')\n",
        "  image = image_dict[line]\n",
        "  caption = caption_dict[line]\n",
        "  datas = datas.append({\"caption\":caption, \"image\":image}, ignore_index=True)\n",
        "\n",
        "del caption_dict\n",
        "del image_dict\n",
        "datas.head(4)"
      ],
      "metadata": {
        "id": "a3YmL0cXlVP1"
      },
      "execution_count": null,
      "outputs": []
    },
    {
      "cell_type": "markdown",
      "source": [
        "#### Preprocessing the datas"
      ],
      "metadata": {
        "id": "ibXEJEWCvFDG"
      }
    },
    {
      "cell_type": "code",
      "source": [
        "with open('/content/drive/My Drive/Courses/DeepLearning/HW03/Q03/Datas/datas.pkl', 'wb') as f:\n",
        "    pickle.dump(datas, f)  # save it"
      ],
      "metadata": {
        "id": "zSjD1x6e8NBo"
      },
      "execution_count": null,
      "outputs": []
    },
    {
      "cell_type": "code",
      "source": [
        "with open('/content/drive/My Drive/Courses/DeepLearning/HW03/Q03/Datas/datas.pkl', 'rb') as f:\n",
        "    datas = pickle.load(f) # load it"
      ],
      "metadata": {
        "id": "PZlMObp_8NZ5"
      },
      "execution_count": null,
      "outputs": []
    },
    {
      "cell_type": "code",
      "source": [
        "tok = spacy.load('en')\n",
        "def tokenize (text):\n",
        "    text = re.sub(r\"[^\\x00-\\x7F]+\", \" \", text)\n",
        "    regex = re.compile('[' + re.escape(string.punctuation) + '0-9\\\\r\\\\t\\\\n]')\n",
        "    nopunct = regex.sub(\" \", text.lower())\n",
        "    return [token.text for token in tok.tokenizer(nopunct)]"
      ],
      "metadata": {
        "id": "pFbMo9vgvCeF"
      },
      "execution_count": null,
      "outputs": []
    },
    {
      "cell_type": "code",
      "source": [
        "# remove punctuation and numbers and unfrequent words\n",
        "datas_preprocessed = datas.copy()\n",
        "counts = Counter()\n",
        "for index, row in datas_preprocessed.iterrows():\n",
        "    counts.update(tokenize(row['caption']))\n",
        "\n",
        "print(\"num_words before:\",len(counts.keys()))\n",
        "for word in list(counts):\n",
        "    if counts[word] < 10:\n",
        "      datas_preprocessed['caption'] = datas_preprocessed['caption'].str.replace(\"\\b{0}\\b\".format(word), '')\n",
        "      del counts[word]\n",
        "\n",
        "punctuation = ['0', '1', '2', '3', '4', '5', '6', '7', '8', '9', '\\t',\"\\n\",'#','@','.',',','?','!',')', '(']\n",
        "for char in punctuation:\n",
        "    datas_preprocessed['caption'] = datas_preprocessed['caption'].str.replace(char, '')\n",
        "\n",
        "print(\"num_words after:\",len(counts.keys()))\n",
        "\n",
        "datas_preprocessed.head(4)"
      ],
      "metadata": {
        "colab": {
          "base_uri": "https://localhost:8080/",
          "height": 210
        },
        "id": "W-9z-eVkvcZw",
        "outputId": "c6e3fbd9-13cf-423e-b54a-a73d489a2546"
      },
      "execution_count": null,
      "outputs": [
        {
          "output_type": "stream",
          "name": "stdout",
          "text": [
            "num_words before: 4079\n",
            "num_words after: 664\n"
          ]
        },
        {
          "output_type": "execute_result",
          "data": {
            "text/html": [
              "\n",
              "  <div id=\"df-0953266a-c83c-4436-bff2-e7e93d142e79\">\n",
              "    <div class=\"colab-df-container\">\n",
              "      <div>\n",
              "<style scoped>\n",
              "    .dataframe tbody tr th:only-of-type {\n",
              "        vertical-align: middle;\n",
              "    }\n",
              "\n",
              "    .dataframe tbody tr th {\n",
              "        vertical-align: top;\n",
              "    }\n",
              "\n",
              "    .dataframe thead th {\n",
              "        text-align: right;\n",
              "    }\n",
              "</style>\n",
              "<table border=\"1\" class=\"dataframe\">\n",
              "  <thead>\n",
              "    <tr style=\"text-align: right;\">\n",
              "      <th></th>\n",
              "      <th>caption</th>\n",
              "      <th>image</th>\n",
              "    </tr>\n",
              "  </thead>\n",
              "  <tbody>\n",
              "    <tr>\n",
              "      <th>0</th>\n",
              "      <td>Two dogs running through a low lying body of w...</td>\n",
              "      <td>[[[38, 31, 25], [64, 50, 49], [78, 73, 67], [2...</td>\n",
              "    </tr>\n",
              "    <tr>\n",
              "      <th>1</th>\n",
              "      <td>The little boy is playing with a croquet hamme...</td>\n",
              "      <td>[[[254, 254, 254], [254, 254, 254], [254, 254,...</td>\n",
              "    </tr>\n",
              "    <tr>\n",
              "      <th>2</th>\n",
              "      <td>A dog with something pink in its mouth is look...</td>\n",
              "      <td>[[[146, 143, 154], [149, 143, 155], [153, 142,...</td>\n",
              "    </tr>\n",
              "    <tr>\n",
              "      <th>3</th>\n",
              "      <td>The large brown dog is running on the beach by...</td>\n",
              "      <td>[[[121, 158, 202], [117, 154, 198], [118, 155,...</td>\n",
              "    </tr>\n",
              "  </tbody>\n",
              "</table>\n",
              "</div>\n",
              "      <button class=\"colab-df-convert\" onclick=\"convertToInteractive('df-0953266a-c83c-4436-bff2-e7e93d142e79')\"\n",
              "              title=\"Convert this dataframe to an interactive table.\"\n",
              "              style=\"display:none;\">\n",
              "        \n",
              "  <svg xmlns=\"http://www.w3.org/2000/svg\" height=\"24px\"viewBox=\"0 0 24 24\"\n",
              "       width=\"24px\">\n",
              "    <path d=\"M0 0h24v24H0V0z\" fill=\"none\"/>\n",
              "    <path d=\"M18.56 5.44l.94 2.06.94-2.06 2.06-.94-2.06-.94-.94-2.06-.94 2.06-2.06.94zm-11 1L8.5 8.5l.94-2.06 2.06-.94-2.06-.94L8.5 2.5l-.94 2.06-2.06.94zm10 10l.94 2.06.94-2.06 2.06-.94-2.06-.94-.94-2.06-.94 2.06-2.06.94z\"/><path d=\"M17.41 7.96l-1.37-1.37c-.4-.4-.92-.59-1.43-.59-.52 0-1.04.2-1.43.59L10.3 9.45l-7.72 7.72c-.78.78-.78 2.05 0 2.83L4 21.41c.39.39.9.59 1.41.59.51 0 1.02-.2 1.41-.59l7.78-7.78 2.81-2.81c.8-.78.8-2.07 0-2.86zM5.41 20L4 18.59l7.72-7.72 1.47 1.35L5.41 20z\"/>\n",
              "  </svg>\n",
              "      </button>\n",
              "      \n",
              "  <style>\n",
              "    .colab-df-container {\n",
              "      display:flex;\n",
              "      flex-wrap:wrap;\n",
              "      gap: 12px;\n",
              "    }\n",
              "\n",
              "    .colab-df-convert {\n",
              "      background-color: #E8F0FE;\n",
              "      border: none;\n",
              "      border-radius: 50%;\n",
              "      cursor: pointer;\n",
              "      display: none;\n",
              "      fill: #1967D2;\n",
              "      height: 32px;\n",
              "      padding: 0 0 0 0;\n",
              "      width: 32px;\n",
              "    }\n",
              "\n",
              "    .colab-df-convert:hover {\n",
              "      background-color: #E2EBFA;\n",
              "      box-shadow: 0px 1px 2px rgba(60, 64, 67, 0.3), 0px 1px 3px 1px rgba(60, 64, 67, 0.15);\n",
              "      fill: #174EA6;\n",
              "    }\n",
              "\n",
              "    [theme=dark] .colab-df-convert {\n",
              "      background-color: #3B4455;\n",
              "      fill: #D2E3FC;\n",
              "    }\n",
              "\n",
              "    [theme=dark] .colab-df-convert:hover {\n",
              "      background-color: #434B5C;\n",
              "      box-shadow: 0px 1px 3px 1px rgba(0, 0, 0, 0.15);\n",
              "      filter: drop-shadow(0px 1px 2px rgba(0, 0, 0, 0.3));\n",
              "      fill: #FFFFFF;\n",
              "    }\n",
              "  </style>\n",
              "\n",
              "      <script>\n",
              "        const buttonEl =\n",
              "          document.querySelector('#df-0953266a-c83c-4436-bff2-e7e93d142e79 button.colab-df-convert');\n",
              "        buttonEl.style.display =\n",
              "          google.colab.kernel.accessAllowed ? 'block' : 'none';\n",
              "\n",
              "        async function convertToInteractive(key) {\n",
              "          const element = document.querySelector('#df-0953266a-c83c-4436-bff2-e7e93d142e79');\n",
              "          const dataTable =\n",
              "            await google.colab.kernel.invokeFunction('convertToInteractive',\n",
              "                                                     [key], {});\n",
              "          if (!dataTable) return;\n",
              "\n",
              "          const docLinkHtml = 'Like what you see? Visit the ' +\n",
              "            '<a target=\"_blank\" href=https://colab.research.google.com/notebooks/data_table.ipynb>data table notebook</a>'\n",
              "            + ' to learn more about interactive tables.';\n",
              "          element.innerHTML = '';\n",
              "          dataTable['output_type'] = 'display_data';\n",
              "          await google.colab.output.renderOutput(dataTable, element);\n",
              "          const docLink = document.createElement('div');\n",
              "          docLink.innerHTML = docLinkHtml;\n",
              "          element.appendChild(docLink);\n",
              "        }\n",
              "      </script>\n",
              "    </div>\n",
              "  </div>\n",
              "  "
            ],
            "text/plain": [
              "                                             caption                                              image\n",
              "0  Two dogs running through a low lying body of w...  [[[38, 31, 25], [64, 50, 49], [78, 73, 67], [2...\n",
              "1  The little boy is playing with a croquet hamme...  [[[254, 254, 254], [254, 254, 254], [254, 254,...\n",
              "2  A dog with something pink in its mouth is look...  [[[146, 143, 154], [149, 143, 155], [153, 142,...\n",
              "3  The large brown dog is running on the beach by...  [[[121, 158, 202], [117, 154, 198], [118, 155,..."
            ]
          },
          "metadata": {},
          "execution_count": 15
        }
      ]
    }
  ]
}