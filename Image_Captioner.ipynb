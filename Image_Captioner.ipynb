{
  "cells": [
    {
      "cell_type": "code",
      "execution_count": 1,
      "metadata": {
        "colab": {
          "base_uri": "https://localhost:8080/"
        },
        "id": "WT8IepblmV1U",
        "outputId": "9a99903a-13ce-4497-891f-cbc067434909"
      },
      "outputs": [
        {
          "output_type": "stream",
          "name": "stdout",
          "text": [
            "Mounted at /content/drive\n"
          ]
        }
      ],
      "source": [
        "import matplotlib.pyplot as plt\n",
        "from matplotlib import cm\n",
        "import numpy as np\n",
        "import pandas as pd\n",
        "import string\n",
        "import re\n",
        "import spacy\n",
        "from collections import Counter\n",
        "import pickle\n",
        "from PIL import Image\n",
        "import torch\n",
        "from torchvision import transforms\n",
        "import torchtext\n",
        "from torch.utils.data import Dataset, DataLoader\n",
        "\n",
        "from google.colab import drive\n",
        "drive.mount('/content/drive')"
      ]
    },
    {
      "cell_type": "code",
      "source": [
        "# Setting device on GPU if available\n",
        "device = torch.device('cuda' if torch.cuda.is_available() else 'cpu')\n",
        "print('Using device:', device)\n",
        "print()\n",
        "\n",
        "if device.type == 'cuda':\n",
        "    print(torch.cuda.get_device_name(0))\n",
        "    print('Memory Usage:')\n",
        "    print('Allocated:', round(torch.cuda.memory_allocated(0)/1024**3,1), 'GB')\n",
        "    print('Cached:   ', round(torch.cuda.memory_cached(0)/1024**3,1), 'GB')\n",
        "\n",
        "torch.backends.cudnn.deterministic = True"
      ],
      "metadata": {
        "colab": {
          "base_uri": "https://localhost:8080/"
        },
        "id": "iq54f3wtASgj",
        "outputId": "3b433a31-0d2e-4c02-e416-919e73aafc67"
      },
      "execution_count": 2,
      "outputs": [
        {
          "output_type": "stream",
          "name": "stdout",
          "text": [
            "Using device: cuda\n",
            "\n",
            "Tesla K80\n",
            "Memory Usage:\n",
            "Allocated: 0.0 GB\n",
            "Cached:    0.0 GB\n"
          ]
        },
        {
          "output_type": "stream",
          "name": "stderr",
          "text": [
            "/usr/local/lib/python3.7/dist-packages/torch/cuda/memory.py:386: FutureWarning: torch.cuda.memory_cached has been renamed to torch.cuda.memory_reserved\n",
            "  FutureWarning)\n"
          ]
        }
      ]
    },
    {
      "cell_type": "markdown",
      "metadata": {
        "id": "KL8MSjkqqvOt"
      },
      "source": [
        "#### Loading Images and Captions"
      ]
    },
    {
      "cell_type": "code",
      "execution_count": null,
      "metadata": {
        "id": "pXV4MGSZjse7"
      },
      "outputs": [],
      "source": [
        "with open('/content/drive/My Drive/Courses/DeepLearning/HW03/Q03/Datas/Flickr8k.token.txt') as f:\n",
        "    lines = f.readlines()\n",
        "caption_dict = {}\n",
        "image_dict = {}\n",
        "for i, line in enumerate(lines):\n",
        "  if i%500==0:\n",
        "    print(i, len(lines))\n",
        "  try:\n",
        "    image_path = line.split('#')[0]\n",
        "    caption = line.split('#')[1]\n",
        "    image = plt.imread(\"/content/drive/My Drive/Courses/DeepLearning/HW03/Q03/Datas/Flicker8k_Dataset/\"+image_path)\n",
        "    image_dict[image_path] = image\n",
        "    caption_dict[image_path] =  caption\n",
        "  except:\n",
        "    pass"
      ]
    },
    {
      "cell_type": "code",
      "execution_count": 8,
      "metadata": {
        "id": "a3YmL0cXlVP1",
        "colab": {
          "base_uri": "https://localhost:8080/",
          "height": 175
        },
        "outputId": "fb72d7a1-7709-45e8-e1fd-d262819419b1"
      },
      "outputs": [
        {
          "output_type": "execute_result",
          "data": {
            "text/html": [
              "\n",
              "  <div id=\"df-72cf1dd2-de9e-4fbd-bdd9-3d2b831c071e\">\n",
              "    <div class=\"colab-df-container\">\n",
              "      <div>\n",
              "<style scoped>\n",
              "    .dataframe tbody tr th:only-of-type {\n",
              "        vertical-align: middle;\n",
              "    }\n",
              "\n",
              "    .dataframe tbody tr th {\n",
              "        vertical-align: top;\n",
              "    }\n",
              "\n",
              "    .dataframe thead th {\n",
              "        text-align: right;\n",
              "    }\n",
              "</style>\n",
              "<table border=\"1\" class=\"dataframe\">\n",
              "  <thead>\n",
              "    <tr style=\"text-align: right;\">\n",
              "      <th></th>\n",
              "      <th>caption</th>\n",
              "      <th>image</th>\n",
              "    </tr>\n",
              "  </thead>\n",
              "  <tbody>\n",
              "    <tr>\n",
              "      <th>0</th>\n",
              "      <td>4\\tTwo dogs running through a low lying body o...</td>\n",
              "      <td>[[[38, 31, 25], [64, 50, 49], [78, 73, 67], [2...</td>\n",
              "    </tr>\n",
              "    <tr>\n",
              "      <th>1</th>\n",
              "      <td>4\\tThe little boy is playing with a croquet ha...</td>\n",
              "      <td>[[[254, 254, 254], [254, 254, 254], [254, 254,...</td>\n",
              "    </tr>\n",
              "    <tr>\n",
              "      <th>2</th>\n",
              "      <td>4\\tA dog with something pink in its mouth is l...</td>\n",
              "      <td>[[[146, 143, 154], [149, 143, 155], [153, 142,...</td>\n",
              "    </tr>\n",
              "    <tr>\n",
              "      <th>3</th>\n",
              "      <td>4\\tThe large brown dog is running on the beach...</td>\n",
              "      <td>[[[121, 158, 202], [117, 154, 198], [118, 155,...</td>\n",
              "    </tr>\n",
              "  </tbody>\n",
              "</table>\n",
              "</div>\n",
              "      <button class=\"colab-df-convert\" onclick=\"convertToInteractive('df-72cf1dd2-de9e-4fbd-bdd9-3d2b831c071e')\"\n",
              "              title=\"Convert this dataframe to an interactive table.\"\n",
              "              style=\"display:none;\">\n",
              "        \n",
              "  <svg xmlns=\"http://www.w3.org/2000/svg\" height=\"24px\"viewBox=\"0 0 24 24\"\n",
              "       width=\"24px\">\n",
              "    <path d=\"M0 0h24v24H0V0z\" fill=\"none\"/>\n",
              "    <path d=\"M18.56 5.44l.94 2.06.94-2.06 2.06-.94-2.06-.94-.94-2.06-.94 2.06-2.06.94zm-11 1L8.5 8.5l.94-2.06 2.06-.94-2.06-.94L8.5 2.5l-.94 2.06-2.06.94zm10 10l.94 2.06.94-2.06 2.06-.94-2.06-.94-.94-2.06-.94 2.06-2.06.94z\"/><path d=\"M17.41 7.96l-1.37-1.37c-.4-.4-.92-.59-1.43-.59-.52 0-1.04.2-1.43.59L10.3 9.45l-7.72 7.72c-.78.78-.78 2.05 0 2.83L4 21.41c.39.39.9.59 1.41.59.51 0 1.02-.2 1.41-.59l7.78-7.78 2.81-2.81c.8-.78.8-2.07 0-2.86zM5.41 20L4 18.59l7.72-7.72 1.47 1.35L5.41 20z\"/>\n",
              "  </svg>\n",
              "      </button>\n",
              "      \n",
              "  <style>\n",
              "    .colab-df-container {\n",
              "      display:flex;\n",
              "      flex-wrap:wrap;\n",
              "      gap: 12px;\n",
              "    }\n",
              "\n",
              "    .colab-df-convert {\n",
              "      background-color: #E8F0FE;\n",
              "      border: none;\n",
              "      border-radius: 50%;\n",
              "      cursor: pointer;\n",
              "      display: none;\n",
              "      fill: #1967D2;\n",
              "      height: 32px;\n",
              "      padding: 0 0 0 0;\n",
              "      width: 32px;\n",
              "    }\n",
              "\n",
              "    .colab-df-convert:hover {\n",
              "      background-color: #E2EBFA;\n",
              "      box-shadow: 0px 1px 2px rgba(60, 64, 67, 0.3), 0px 1px 3px 1px rgba(60, 64, 67, 0.15);\n",
              "      fill: #174EA6;\n",
              "    }\n",
              "\n",
              "    [theme=dark] .colab-df-convert {\n",
              "      background-color: #3B4455;\n",
              "      fill: #D2E3FC;\n",
              "    }\n",
              "\n",
              "    [theme=dark] .colab-df-convert:hover {\n",
              "      background-color: #434B5C;\n",
              "      box-shadow: 0px 1px 3px 1px rgba(0, 0, 0, 0.15);\n",
              "      filter: drop-shadow(0px 1px 2px rgba(0, 0, 0, 0.3));\n",
              "      fill: #FFFFFF;\n",
              "    }\n",
              "  </style>\n",
              "\n",
              "      <script>\n",
              "        const buttonEl =\n",
              "          document.querySelector('#df-72cf1dd2-de9e-4fbd-bdd9-3d2b831c071e button.colab-df-convert');\n",
              "        buttonEl.style.display =\n",
              "          google.colab.kernel.accessAllowed ? 'block' : 'none';\n",
              "\n",
              "        async function convertToInteractive(key) {\n",
              "          const element = document.querySelector('#df-72cf1dd2-de9e-4fbd-bdd9-3d2b831c071e');\n",
              "          const dataTable =\n",
              "            await google.colab.kernel.invokeFunction('convertToInteractive',\n",
              "                                                     [key], {});\n",
              "          if (!dataTable) return;\n",
              "\n",
              "          const docLinkHtml = 'Like what you see? Visit the ' +\n",
              "            '<a target=\"_blank\" href=https://colab.research.google.com/notebooks/data_table.ipynb>data table notebook</a>'\n",
              "            + ' to learn more about interactive tables.';\n",
              "          element.innerHTML = '';\n",
              "          dataTable['output_type'] = 'display_data';\n",
              "          await google.colab.output.renderOutput(dataTable, element);\n",
              "          const docLink = document.createElement('div');\n",
              "          docLink.innerHTML = docLinkHtml;\n",
              "          element.appendChild(docLink);\n",
              "        }\n",
              "      </script>\n",
              "    </div>\n",
              "  </div>\n",
              "  "
            ],
            "text/plain": [
              "                                             caption                                              image\n",
              "0  4\\tTwo dogs running through a low lying body o...  [[[38, 31, 25], [64, 50, 49], [78, 73, 67], [2...\n",
              "1  4\\tThe little boy is playing with a croquet ha...  [[[254, 254, 254], [254, 254, 254], [254, 254,...\n",
              "2  4\\tA dog with something pink in its mouth is l...  [[[146, 143, 154], [149, 143, 155], [153, 142,...\n",
              "3  4\\tThe large brown dog is running on the beach...  [[[121, 158, 202], [117, 154, 198], [118, 155,..."
            ]
          },
          "metadata": {},
          "execution_count": 8
        }
      ],
      "source": [
        "# Train Datas\n",
        "with open('/content/drive/My Drive/Courses/DeepLearning/HW03/Q03/Datas/Flickr_8k.trainImages.txt') as f:\n",
        "  lines = f.readlines()\n",
        "datas = pd.DataFrame(columns=[\"caption\",\"image\"])\n",
        "\n",
        "for line in lines:\n",
        "  line = line.replace('\\n', '')\n",
        "  image = image_dict[line]\n",
        "  caption = caption_dict[line]\n",
        "  datas = datas.append({\"caption\":caption, \"image\":image}, ignore_index=True)\n",
        "\n",
        "# Test Datas\n",
        "with open('/content/drive/My Drive/Courses/DeepLearning/HW03/Q03/Datas/Flickr_8k.testImages.txt') as f:\n",
        "  lines = f.readlines()\n",
        "\n",
        "for line in lines:\n",
        "  line = line.replace('\\n', '')\n",
        "  image = image_dict[line]\n",
        "  caption = caption_dict[line]\n",
        "  datas = datas.append({\"caption\":caption, \"image\":image}, ignore_index=True)\n",
        "\n",
        "del caption_dict\n",
        "del image_dict\n",
        "datas.head(4)"
      ]
    },
    {
      "cell_type": "code",
      "source": [
        "with open('/content/drive/My Drive/Courses/DeepLearning/HW03/Q03/Datas/datas.pkl', 'wb') as f:\n",
        "    pickle.dump(datas, f)  # save it"
      ],
      "metadata": {
        "id": "fmj3MCrsb9Ut"
      },
      "execution_count": 9,
      "outputs": []
    },
    {
      "cell_type": "code",
      "source": [
        "with open('/content/drive/My Drive/Courses/DeepLearning/HW03/Q03/Datas/datas.pkl', 'rb') as f:\n",
        "    datas = pickle.load(f) # load it"
      ],
      "metadata": {
        "id": "HXPSjtTfb_MS"
      },
      "execution_count": 3,
      "outputs": []
    },
    {
      "cell_type": "markdown",
      "metadata": {
        "id": "ibXEJEWCvFDG"
      },
      "source": [
        "#### Preprocessing the datas"
      ]
    },
    {
      "cell_type": "code",
      "execution_count": 4,
      "metadata": {
        "id": "pFbMo9vgvCeF"
      },
      "outputs": [],
      "source": [
        "tok = spacy.load('en')\n",
        "def tokenize (text):\n",
        "    text = re.sub(r\"[^\\x00-\\x7F]+\", \" \", text)\n",
        "    regex = re.compile('[' + re.escape(string.punctuation) + '0-9\\\\r\\\\t\\\\n]')\n",
        "    nopunct = regex.sub(\" \", text.lower())\n",
        "    return [token.text for token in tok.tokenizer(nopunct)]"
      ]
    },
    {
      "cell_type": "code",
      "execution_count": 5,
      "metadata": {
        "colab": {
          "base_uri": "https://localhost:8080/",
          "height": 210
        },
        "id": "W-9z-eVkvcZw",
        "outputId": "b7c7d982-daa4-4dc8-aa08-753d8c634e7f"
      },
      "outputs": [
        {
          "output_type": "stream",
          "name": "stdout",
          "text": [
            "num_words before: 4079\n",
            "num_words after: 664\n"
          ]
        },
        {
          "output_type": "execute_result",
          "data": {
            "text/html": [
              "\n",
              "  <div id=\"df-fe7f8d24-f818-41e3-ab69-d5f1850e8472\">\n",
              "    <div class=\"colab-df-container\">\n",
              "      <div>\n",
              "<style scoped>\n",
              "    .dataframe tbody tr th:only-of-type {\n",
              "        vertical-align: middle;\n",
              "    }\n",
              "\n",
              "    .dataframe tbody tr th {\n",
              "        vertical-align: top;\n",
              "    }\n",
              "\n",
              "    .dataframe thead th {\n",
              "        text-align: right;\n",
              "    }\n",
              "</style>\n",
              "<table border=\"1\" class=\"dataframe\">\n",
              "  <thead>\n",
              "    <tr style=\"text-align: right;\">\n",
              "      <th></th>\n",
              "      <th>caption</th>\n",
              "      <th>image</th>\n",
              "    </tr>\n",
              "  </thead>\n",
              "  <tbody>\n",
              "    <tr>\n",
              "      <th>0</th>\n",
              "      <td>START Two dogs running through a low lying bod...</td>\n",
              "      <td>[[[38, 31, 25], [64, 50, 49], [78, 73, 67], [2...</td>\n",
              "    </tr>\n",
              "    <tr>\n",
              "      <th>1</th>\n",
              "      <td>START The little boy is playing with a croquet...</td>\n",
              "      <td>[[[254, 254, 254], [254, 254, 254], [254, 254,...</td>\n",
              "    </tr>\n",
              "    <tr>\n",
              "      <th>2</th>\n",
              "      <td>START A dog with something pink in its mouth i...</td>\n",
              "      <td>[[[146, 143, 154], [149, 143, 155], [153, 142,...</td>\n",
              "    </tr>\n",
              "    <tr>\n",
              "      <th>3</th>\n",
              "      <td>START The large brown dog is running on the be...</td>\n",
              "      <td>[[[121, 158, 202], [117, 154, 198], [118, 155,...</td>\n",
              "    </tr>\n",
              "  </tbody>\n",
              "</table>\n",
              "</div>\n",
              "      <button class=\"colab-df-convert\" onclick=\"convertToInteractive('df-fe7f8d24-f818-41e3-ab69-d5f1850e8472')\"\n",
              "              title=\"Convert this dataframe to an interactive table.\"\n",
              "              style=\"display:none;\">\n",
              "        \n",
              "  <svg xmlns=\"http://www.w3.org/2000/svg\" height=\"24px\"viewBox=\"0 0 24 24\"\n",
              "       width=\"24px\">\n",
              "    <path d=\"M0 0h24v24H0V0z\" fill=\"none\"/>\n",
              "    <path d=\"M18.56 5.44l.94 2.06.94-2.06 2.06-.94-2.06-.94-.94-2.06-.94 2.06-2.06.94zm-11 1L8.5 8.5l.94-2.06 2.06-.94-2.06-.94L8.5 2.5l-.94 2.06-2.06.94zm10 10l.94 2.06.94-2.06 2.06-.94-2.06-.94-.94-2.06-.94 2.06-2.06.94z\"/><path d=\"M17.41 7.96l-1.37-1.37c-.4-.4-.92-.59-1.43-.59-.52 0-1.04.2-1.43.59L10.3 9.45l-7.72 7.72c-.78.78-.78 2.05 0 2.83L4 21.41c.39.39.9.59 1.41.59.51 0 1.02-.2 1.41-.59l7.78-7.78 2.81-2.81c.8-.78.8-2.07 0-2.86zM5.41 20L4 18.59l7.72-7.72 1.47 1.35L5.41 20z\"/>\n",
              "  </svg>\n",
              "      </button>\n",
              "      \n",
              "  <style>\n",
              "    .colab-df-container {\n",
              "      display:flex;\n",
              "      flex-wrap:wrap;\n",
              "      gap: 12px;\n",
              "    }\n",
              "\n",
              "    .colab-df-convert {\n",
              "      background-color: #E8F0FE;\n",
              "      border: none;\n",
              "      border-radius: 50%;\n",
              "      cursor: pointer;\n",
              "      display: none;\n",
              "      fill: #1967D2;\n",
              "      height: 32px;\n",
              "      padding: 0 0 0 0;\n",
              "      width: 32px;\n",
              "    }\n",
              "\n",
              "    .colab-df-convert:hover {\n",
              "      background-color: #E2EBFA;\n",
              "      box-shadow: 0px 1px 2px rgba(60, 64, 67, 0.3), 0px 1px 3px 1px rgba(60, 64, 67, 0.15);\n",
              "      fill: #174EA6;\n",
              "    }\n",
              "\n",
              "    [theme=dark] .colab-df-convert {\n",
              "      background-color: #3B4455;\n",
              "      fill: #D2E3FC;\n",
              "    }\n",
              "\n",
              "    [theme=dark] .colab-df-convert:hover {\n",
              "      background-color: #434B5C;\n",
              "      box-shadow: 0px 1px 3px 1px rgba(0, 0, 0, 0.15);\n",
              "      filter: drop-shadow(0px 1px 2px rgba(0, 0, 0, 0.3));\n",
              "      fill: #FFFFFF;\n",
              "    }\n",
              "  </style>\n",
              "\n",
              "      <script>\n",
              "        const buttonEl =\n",
              "          document.querySelector('#df-fe7f8d24-f818-41e3-ab69-d5f1850e8472 button.colab-df-convert');\n",
              "        buttonEl.style.display =\n",
              "          google.colab.kernel.accessAllowed ? 'block' : 'none';\n",
              "\n",
              "        async function convertToInteractive(key) {\n",
              "          const element = document.querySelector('#df-fe7f8d24-f818-41e3-ab69-d5f1850e8472');\n",
              "          const dataTable =\n",
              "            await google.colab.kernel.invokeFunction('convertToInteractive',\n",
              "                                                     [key], {});\n",
              "          if (!dataTable) return;\n",
              "\n",
              "          const docLinkHtml = 'Like what you see? Visit the ' +\n",
              "            '<a target=\"_blank\" href=https://colab.research.google.com/notebooks/data_table.ipynb>data table notebook</a>'\n",
              "            + ' to learn more about interactive tables.';\n",
              "          element.innerHTML = '';\n",
              "          dataTable['output_type'] = 'display_data';\n",
              "          await google.colab.output.renderOutput(dataTable, element);\n",
              "          const docLink = document.createElement('div');\n",
              "          docLink.innerHTML = docLinkHtml;\n",
              "          element.appendChild(docLink);\n",
              "        }\n",
              "      </script>\n",
              "    </div>\n",
              "  </div>\n",
              "  "
            ],
            "text/plain": [
              "                                             caption                                              image\n",
              "0  START Two dogs running through a low lying bod...  [[[38, 31, 25], [64, 50, 49], [78, 73, 67], [2...\n",
              "1  START The little boy is playing with a croquet...  [[[254, 254, 254], [254, 254, 254], [254, 254,...\n",
              "2  START A dog with something pink in its mouth i...  [[[146, 143, 154], [149, 143, 155], [153, 142,...\n",
              "3  START The large brown dog is running on the be...  [[[121, 158, 202], [117, 154, 198], [118, 155,..."
            ]
          },
          "metadata": {},
          "execution_count": 5
        }
      ],
      "source": [
        "# remove punctuation and numbers and unfrequent words\n",
        "datas_preprocessed = datas.copy()\n",
        "counts = Counter()\n",
        "for index, row in datas_preprocessed.iterrows():\n",
        "    counts.update(tokenize(row['caption']))\n",
        "\n",
        "print(\"num_words before:\",len(counts.keys()))\n",
        "for word in list(counts):\n",
        "    if counts[word] < 10:\n",
        "      datas_preprocessed['caption'] = datas_preprocessed['caption'].str.replace(\"\\b{0}\\b\".format(word), '')\n",
        "      del counts[word]\n",
        "\n",
        "punctuation = ['0', '1', '2', '3', '4', '5', '6', '7', '8', '9', '\\t',\"\\n\",'#','@','.',',','?','!',')', '(']\n",
        "for char in punctuation:\n",
        "    datas_preprocessed['caption'] = datas_preprocessed['caption'].str.replace(char, '')\n",
        "\n",
        "print(\"num_words after:\",len(counts.keys()))\n",
        "del datas\n",
        "del counts\n",
        "# adding <START> and <END> to the captions\n",
        "datas_preprocessed['caption'] = \"START \" + datas_preprocessed['caption'].astype(str) + \" END\"\n",
        "datas_preprocessed.head(4)"
      ]
    },
    {
      "cell_type": "code",
      "source": [
        "with open('/content/drive/My Drive/Courses/DeepLearning/HW03/Q03/Datas/datas_preprocessed.pkl', 'wb') as f:\n",
        "    pickle.dump(datas_preprocessed, f)  # save it"
      ],
      "metadata": {
        "id": "rd2qGeeX5V-Z"
      },
      "execution_count": 6,
      "outputs": []
    },
    {
      "cell_type": "code",
      "source": [
        "with open('/content/drive/My Drive/Courses/DeepLearning/HW03/Q03/Datas/datas_preprocessed.pkl', 'rb') as f:\n",
        "    datas_preprocessed = pickle.load(f) # load it"
      ],
      "metadata": {
        "id": "VLuae84e5Gqk"
      },
      "execution_count": 3,
      "outputs": []
    },
    {
      "cell_type": "markdown",
      "source": [
        "#### Building Vocabulary"
      ],
      "metadata": {
        "id": "vcU0gwCB___J"
      }
    },
    {
      "cell_type": "code",
      "source": [
        "Size_max = 0\n",
        "for index, row in datas_preprocessed.iterrows():\n",
        "  Size = len(row['caption'].split())\n",
        "  if Size_max < Size:\n",
        "    Size_max = Size\n",
        "print(Size_max)"
      ],
      "metadata": {
        "colab": {
          "base_uri": "https://localhost:8080/"
        },
        "id": "FsC48XFo1Xat",
        "outputId": "016af828-e07f-4739-d2d6-b449949c109f"
      },
      "execution_count": 4,
      "outputs": [
        {
          "output_type": "stream",
          "name": "stdout",
          "text": [
            "37\n"
          ]
        }
      ]
    },
    {
      "cell_type": "code",
      "source": [
        "tok = spacy.load('en')\n",
        "def tokenize (text):\n",
        "    text = re.sub(r\"[^\\x00-\\x7F]+\", \" \", text)\n",
        "    regex = re.compile('[' + re.escape(string.punctuation) + '0-9\\\\r\\\\t\\\\n]') # remove punctuation and numbers\n",
        "    nopunct = regex.sub(\" \", text.lower())\n",
        "    return [token.text for token in tok.tokenizer(nopunct)]\n",
        "\n",
        "#count number of occurences of each word\n",
        "counts = Counter()\n",
        "for index, row in datas_preprocessed.iterrows():\n",
        "    counts.update(tokenize(row['caption']))\n",
        "\n",
        "#creating vocabulary\n",
        "vocab2index = {\"\":0, \"UNK\":1}\n",
        "index2vocab = {0:\"\", 1:\"UNK\"}\n",
        "\n",
        "words = [\"\", \"UNK\"]\n",
        "for word in counts:\n",
        "    vocab2index[word] = len(words)\n",
        "    index2vocab[len(words)] = word\n",
        "    words.append(word)\n",
        "\n",
        "def encode_sentence(text, vocab2index, N):\n",
        "    tokenized = tokenize(text)\n",
        "    encoded = np.zeros(N, dtype=int)\n",
        "    enc1 = np.array([vocab2index.get(word, vocab2index[\"UNK\"]) for word in tokenized])\n",
        "    length = min(N, len(enc1))\n",
        "    encoded[:length] = enc1[:length]\n",
        "    return encoded, length\n",
        "\n",
        "datas_preprocessed['encoded'] = datas_preprocessed['caption'].apply(lambda x: np.array(encode_sentence(x,vocab2index, Size_max)))"
      ],
      "metadata": {
        "colab": {
          "base_uri": "https://localhost:8080/"
        },
        "id": "zGVFBxvZ4Kp3",
        "outputId": "32a11506-0176-41f1-c37b-16aa84800987"
      },
      "execution_count": 5,
      "outputs": [
        {
          "output_type": "stream",
          "name": "stderr",
          "text": [
            "/usr/local/lib/python3.7/dist-packages/ipykernel_launcher.py:31: VisibleDeprecationWarning: Creating an ndarray from ragged nested sequences (which is a list-or-tuple of lists-or-tuples-or ndarrays with different lengths or shapes) is deprecated. If you meant to do this, you must specify 'dtype=object' when creating the ndarray\n"
          ]
        }
      ]
    },
    {
      "cell_type": "code",
      "source": [
        "datas_preprocessed.head(4)"
      ],
      "metadata": {
        "colab": {
          "base_uri": "https://localhost:8080/",
          "height": 391
        },
        "id": "hBcNfn4-T1vb",
        "outputId": "d8088a99-10e4-4036-ffd5-ce213a529340"
      },
      "execution_count": 9,
      "outputs": [
        {
          "output_type": "execute_result",
          "data": {
            "text/html": [
              "\n",
              "  <div id=\"df-213831c7-a32e-4a09-9f33-acfd64f8a7d9\">\n",
              "    <div class=\"colab-df-container\">\n",
              "      <div>\n",
              "<style scoped>\n",
              "    .dataframe tbody tr th:only-of-type {\n",
              "        vertical-align: middle;\n",
              "    }\n",
              "\n",
              "    .dataframe tbody tr th {\n",
              "        vertical-align: top;\n",
              "    }\n",
              "\n",
              "    .dataframe thead th {\n",
              "        text-align: right;\n",
              "    }\n",
              "</style>\n",
              "<table border=\"1\" class=\"dataframe\">\n",
              "  <thead>\n",
              "    <tr style=\"text-align: right;\">\n",
              "      <th></th>\n",
              "      <th>caption</th>\n",
              "      <th>image</th>\n",
              "      <th>encoded</th>\n",
              "    </tr>\n",
              "  </thead>\n",
              "  <tbody>\n",
              "    <tr>\n",
              "      <th>0</th>\n",
              "      <td>START Two dogs running through a low lying bod...</td>\n",
              "      <td>[[[38, 31, 25], [64, 50, 49], [78, 73, 67], [2...</td>\n",
              "      <td>[[2, 3, 4, 5, 6, 7, 8, 9, 10, 11, 12, 13, 14, ...</td>\n",
              "    </tr>\n",
              "    <tr>\n",
              "      <th>1</th>\n",
              "      <td>START The little boy is playing with a croquet...</td>\n",
              "      <td>[[[254, 254, 254], [254, 254, 254], [254, 254,...</td>\n",
              "      <td>[[2, 15, 16, 17, 18, 19, 20, 7, 21, 22, 23, 24...</td>\n",
              "    </tr>\n",
              "    <tr>\n",
              "      <th>2</th>\n",
              "      <td>START A dog with something pink in its mouth i...</td>\n",
              "      <td>[[[146, 143, 154], [149, 143, 155], [153, 142,...</td>\n",
              "      <td>[[2, 7, 27, 20, 28, 29, 30, 31, 32, 18, 33, 34...</td>\n",
              "    </tr>\n",
              "    <tr>\n",
              "      <th>3</th>\n",
              "      <td>START The large brown dog is running on the be...</td>\n",
              "      <td>[[[121, 158, 202], [117, 154, 198], [118, 155,...</td>\n",
              "      <td>[[2, 15, 35, 36, 27, 18, 5, 37, 15, 38, 39, 15...</td>\n",
              "    </tr>\n",
              "  </tbody>\n",
              "</table>\n",
              "</div>\n",
              "      <button class=\"colab-df-convert\" onclick=\"convertToInteractive('df-213831c7-a32e-4a09-9f33-acfd64f8a7d9')\"\n",
              "              title=\"Convert this dataframe to an interactive table.\"\n",
              "              style=\"display:none;\">\n",
              "        \n",
              "  <svg xmlns=\"http://www.w3.org/2000/svg\" height=\"24px\"viewBox=\"0 0 24 24\"\n",
              "       width=\"24px\">\n",
              "    <path d=\"M0 0h24v24H0V0z\" fill=\"none\"/>\n",
              "    <path d=\"M18.56 5.44l.94 2.06.94-2.06 2.06-.94-2.06-.94-.94-2.06-.94 2.06-2.06.94zm-11 1L8.5 8.5l.94-2.06 2.06-.94-2.06-.94L8.5 2.5l-.94 2.06-2.06.94zm10 10l.94 2.06.94-2.06 2.06-.94-2.06-.94-.94-2.06-.94 2.06-2.06.94z\"/><path d=\"M17.41 7.96l-1.37-1.37c-.4-.4-.92-.59-1.43-.59-.52 0-1.04.2-1.43.59L10.3 9.45l-7.72 7.72c-.78.78-.78 2.05 0 2.83L4 21.41c.39.39.9.59 1.41.59.51 0 1.02-.2 1.41-.59l7.78-7.78 2.81-2.81c.8-.78.8-2.07 0-2.86zM5.41 20L4 18.59l7.72-7.72 1.47 1.35L5.41 20z\"/>\n",
              "  </svg>\n",
              "      </button>\n",
              "      \n",
              "  <style>\n",
              "    .colab-df-container {\n",
              "      display:flex;\n",
              "      flex-wrap:wrap;\n",
              "      gap: 12px;\n",
              "    }\n",
              "\n",
              "    .colab-df-convert {\n",
              "      background-color: #E8F0FE;\n",
              "      border: none;\n",
              "      border-radius: 50%;\n",
              "      cursor: pointer;\n",
              "      display: none;\n",
              "      fill: #1967D2;\n",
              "      height: 32px;\n",
              "      padding: 0 0 0 0;\n",
              "      width: 32px;\n",
              "    }\n",
              "\n",
              "    .colab-df-convert:hover {\n",
              "      background-color: #E2EBFA;\n",
              "      box-shadow: 0px 1px 2px rgba(60, 64, 67, 0.3), 0px 1px 3px 1px rgba(60, 64, 67, 0.15);\n",
              "      fill: #174EA6;\n",
              "    }\n",
              "\n",
              "    [theme=dark] .colab-df-convert {\n",
              "      background-color: #3B4455;\n",
              "      fill: #D2E3FC;\n",
              "    }\n",
              "\n",
              "    [theme=dark] .colab-df-convert:hover {\n",
              "      background-color: #434B5C;\n",
              "      box-shadow: 0px 1px 3px 1px rgba(0, 0, 0, 0.15);\n",
              "      filter: drop-shadow(0px 1px 2px rgba(0, 0, 0, 0.3));\n",
              "      fill: #FFFFFF;\n",
              "    }\n",
              "  </style>\n",
              "\n",
              "      <script>\n",
              "        const buttonEl =\n",
              "          document.querySelector('#df-213831c7-a32e-4a09-9f33-acfd64f8a7d9 button.colab-df-convert');\n",
              "        buttonEl.style.display =\n",
              "          google.colab.kernel.accessAllowed ? 'block' : 'none';\n",
              "\n",
              "        async function convertToInteractive(key) {\n",
              "          const element = document.querySelector('#df-213831c7-a32e-4a09-9f33-acfd64f8a7d9');\n",
              "          const dataTable =\n",
              "            await google.colab.kernel.invokeFunction('convertToInteractive',\n",
              "                                                     [key], {});\n",
              "          if (!dataTable) return;\n",
              "\n",
              "          const docLinkHtml = 'Like what you see? Visit the ' +\n",
              "            '<a target=\"_blank\" href=https://colab.research.google.com/notebooks/data_table.ipynb>data table notebook</a>'\n",
              "            + ' to learn more about interactive tables.';\n",
              "          element.innerHTML = '';\n",
              "          dataTable['output_type'] = 'display_data';\n",
              "          await google.colab.output.renderOutput(dataTable, element);\n",
              "          const docLink = document.createElement('div');\n",
              "          docLink.innerHTML = docLinkHtml;\n",
              "          element.appendChild(docLink);\n",
              "        }\n",
              "      </script>\n",
              "    </div>\n",
              "  </div>\n",
              "  "
            ],
            "text/plain": [
              "                                             caption  ...                                            encoded\n",
              "0  START Two dogs running through a low lying bod...  ...  [[2, 3, 4, 5, 6, 7, 8, 9, 10, 11, 12, 13, 14, ...\n",
              "1  START The little boy is playing with a croquet...  ...  [[2, 15, 16, 17, 18, 19, 20, 7, 21, 22, 23, 24...\n",
              "2  START A dog with something pink in its mouth i...  ...  [[2, 7, 27, 20, 28, 29, 30, 31, 32, 18, 33, 34...\n",
              "3  START The large brown dog is running on the be...  ...  [[2, 15, 35, 36, 27, 18, 5, 37, 15, 38, 39, 15...\n",
              "\n",
              "[4 rows x 3 columns]"
            ]
          },
          "metadata": {},
          "execution_count": 9
        }
      ]
    },
    {
      "cell_type": "markdown",
      "source": [
        "#### Making Torch Dataloader"
      ],
      "metadata": {
        "id": "n618rtHlVJQt"
      }
    },
    {
      "cell_type": "code",
      "source": [
        "class Vector_Caption_Dataset(Dataset):\n",
        "\n",
        "    def __init__(self, dataframe, Transforms):\n",
        "        self.dataframe = dataframe # load it\n",
        "        self.Transforms = Transforms\n",
        "\n",
        "    def __len__(self):\n",
        "        return len(self.dataframe)\n",
        "\n",
        "    def __getitem__(self, idx):\n",
        "\n",
        "        encoded = self.dataframe['encoded'][idx][0]\n",
        "        image = self.dataframe['image'][idx]\n",
        "        image = self.ImageProcess(image)\n",
        "        sample = {'encoded_caption':encoded, 'image':image}\n",
        "        return sample\n",
        "\n",
        "    def ImageProcess(self, image):\n",
        "        # image = torch.from_numpy(image).permute(2, 0, 1).long() \n",
        "        return self.Transforms(image)\n",
        "\n",
        "\n",
        "Transforms = transforms.Compose([\n",
        "      transforms.ToPILImage(),\n",
        "      transforms.Resize((356, 356)),\n",
        "      transforms.RandomCrop((299, 299)),\n",
        "      transforms.ToTensor(),\n",
        "      transforms.Normalize((0.5, 0.5, 0.5), (0.5, 0.5, 0.5)),\n",
        "])\n",
        "\n",
        "vector_dataset = Vector_Caption_Dataset(datas_preprocessed, Transforms)\n",
        "\n",
        "BATCH_SIZE = 32\n",
        "dataloader = DataLoader(vector_dataset, batch_size=BATCH_SIZE, shuffle=True, num_workers=0)"
      ],
      "metadata": {
        "id": "haOBVTP39Fie"
      },
      "execution_count": 6,
      "outputs": []
    },
    {
      "cell_type": "markdown",
      "source": [
        "#### implementing Networks"
      ],
      "metadata": {
        "id": "zkDBD2XDVNCp"
      }
    },
    {
      "cell_type": "code",
      "source": [
        "import torch\n",
        "import torch.nn as nn\n",
        "import statistics\n",
        "import torchvision.models as models"
      ],
      "metadata": {
        "id": "Ml4yllGpW6OJ"
      },
      "execution_count": 7,
      "outputs": []
    },
    {
      "cell_type": "code",
      "source": [
        "class EncoderCNN(nn.Module):\n",
        "    def __init__(self, embed_size, train_CNN=False):\n",
        "        super(EncoderCNN, self).__init__()\n",
        "        self.train_CNN = train_CNN\n",
        "        self.inception = models.inception_v3(pretrained=True, aux_logits=False)\n",
        "        self.inception.fc = nn.Linear(self.inception.fc.in_features, embed_size)\n",
        "        self.relu = nn.ReLU()\n",
        "        self.times = []\n",
        "        self.dropout = nn.Dropout(0.5)\n",
        "\n",
        "    def forward(self, images):\n",
        "        features = self.inception(images)\n",
        "        return self.dropout(self.relu(features))\n",
        "\n",
        "\n",
        "class DecoderRNN(nn.Module):\n",
        "    def __init__(self, embed_size, hidden_size, vocab_size, num_layers):\n",
        "        super(DecoderRNN, self).__init__()\n",
        "        self.embed = nn.Embedding(vocab_size, embed_size)\n",
        "        self.lstm = nn.LSTM(embed_size, hidden_size, num_layers, batch_first=True)\n",
        "        self.linear = nn.Linear(hidden_size, vocab_size)\n",
        "        self.dropout = nn.Dropout(0.5)\n",
        "\n",
        "    def forward(self, features, captions):\n",
        "        embeddings = self.dropout(self.embed(captions))\n",
        "        embeddings = torch.cat((features.unsqueeze(0), embeddings.permute(1,0,2)), dim=0)\n",
        "        hiddens, _ = self.lstm(embeddings)\n",
        "        outputs = self.linear(hiddens)\n",
        "        return outputs\n",
        "\n",
        "\n",
        "class CNNtoRNN(nn.Module):\n",
        "    def __init__(self, embed_size, hidden_size, vocab_size, num_layers):\n",
        "        super(CNNtoRNN, self).__init__()\n",
        "        self.encoderCNN = EncoderCNN(embed_size)\n",
        "        self.decoderRNN = DecoderRNN(embed_size, hidden_size, vocab_size, num_layers)\n",
        "\n",
        "    def forward(self, images, captions):\n",
        "        features = self.encoderCNN(images)\n",
        "        outputs = self.decoderRNN(features, captions)\n",
        "        return outputs\n",
        "\n",
        "    def caption_image(self, image, max_length=50):\n",
        "        result_caption = []\n",
        "\n",
        "        with torch.no_grad():\n",
        "            x = self.encoderCNN(image).unsqueeze(0)\n",
        "            states = None\n",
        "\n",
        "            for _ in range(max_length):\n",
        "                hiddens, states = self.decoderRNN.lstm(x, states)\n",
        "                output = self.decoderRNN.linear(hiddens.squeeze(0))\n",
        "                predicted = output.argmax(1)\n",
        "                \n",
        "                result_caption.append(predicted.item())\n",
        "                x = self.decoderRNN.embed(predicted).unsqueeze(0)\n",
        "\n",
        "                if index2vocab[predicted.item()] == \"end\":\n",
        "                    break\n",
        "\n",
        "        return [index2vocab[idx] for idx in result_caption]"
      ],
      "metadata": {
        "id": "iMu5cgXIRYpr"
      },
      "execution_count": 23,
      "outputs": []
    },
    {
      "cell_type": "code",
      "source": [
        "import torch\n",
        "from tqdm import tqdm\n",
        "import torch.nn as nn\n",
        "import torch.optim as optim\n",
        "import torchvision.transforms as transforms"
      ],
      "metadata": {
        "id": "CXU2rJFY3qvP"
      },
      "execution_count": 24,
      "outputs": []
    },
    {
      "cell_type": "code",
      "source": [
        "embed_size = 300\n",
        "hidden_size = 256\n",
        "vocab_size = len(vocab2index)\n",
        "\n",
        "train_CNN = False\n",
        "\n",
        "num_layers = 1\n",
        "learning_rate = 3e-4\n",
        "num_epochs = 10\n",
        "\n",
        "model = CNNtoRNN(embed_size, hidden_size, vocab_size, num_layers).to(device)\n",
        "criterion = nn.CrossEntropyLoss(ignore_index=vocab2index[\"\"])\n",
        "optimizer = optim.Adam(model.parameters(), lr=learning_rate)\n",
        "\n",
        "for name, param in model.encoderCNN.inception.named_parameters():\n",
        "  if \"fc.weight\" in name or \"fc.bias\" in name:\n",
        "    param.requires_grad = True\n",
        "  else:\n",
        "    param.requires_grad = train_CNN"
      ],
      "metadata": {
        "id": "dLSD8EQ6X4-0"
      },
      "execution_count": 25,
      "outputs": []
    },
    {
      "cell_type": "markdown",
      "source": [
        "#### Training"
      ],
      "metadata": {
        "id": "xfRQCz3_cljT"
      }
    },
    {
      "cell_type": "code",
      "source": [
        "print_every = 20\n",
        "\n",
        "for epoch in range(1, num_epochs+1):\n",
        "\n",
        "    for i_step, data in enumerate(dataloader):\n",
        "        # Pass the inputs through the CNN-RNN model.\n",
        "        imgs = data['image']\n",
        "        captions = data['encoded_caption']\n",
        "\n",
        "        imgs = imgs.to(device)\n",
        "        captions = captions.to(device)\n",
        "        \n",
        "        outputs = model(imgs, captions[:,:-1])\n",
        "        loss = criterion(\n",
        "            outputs.reshape(-1, outputs.shape[2]), captions.reshape(-1)\n",
        "        )\n",
        "\n",
        "        \n",
        "        optimizer.zero_grad()\n",
        "        loss.backward()\n",
        "        optimizer.step()\n",
        "\n",
        "        stats = 'Epoch [%d/%d], Step [%d], Loss: %.4f' % (epoch, num_epochs, i_step, loss.item())\n",
        "\n",
        "\n",
        "\n",
        "        # Print training statistics (on different line).\n",
        "        if i_step % print_every == 0:\n",
        "            print('\\r' + stats)"
      ],
      "metadata": {
        "colab": {
          "base_uri": "https://localhost:8080/",
          "height": 270
        },
        "id": "0ddK9GL9VksV",
        "outputId": "c03f9b87-5d99-4373-f6e2-51b90a156592"
      },
      "execution_count": 31,
      "outputs": [
        {
          "output_type": "stream",
          "name": "stdout",
          "text": [
            "Epoch [1/10], Step [0], Loss: 6.7161\n",
            "Epoch [1/10], Step [20], Loss: 5.3050\n"
          ]
        },
        {
          "output_type": "error",
          "ename": "KeyboardInterrupt",
          "evalue": "ignored",
          "traceback": [
            "\u001b[0;31m---------------------------------------------------------------------------\u001b[0m",
            "\u001b[0;31mKeyboardInterrupt\u001b[0m                         Traceback (most recent call last)",
            "\u001b[0;32m<ipython-input-31-d60a8549f34a>\u001b[0m in \u001b[0;36m<module>\u001b[0;34m()\u001b[0m\n\u001b[1;32m     21\u001b[0m         \u001b[0moptimizer\u001b[0m\u001b[0;34m.\u001b[0m\u001b[0mstep\u001b[0m\u001b[0;34m(\u001b[0m\u001b[0;34m)\u001b[0m\u001b[0;34m\u001b[0m\u001b[0;34m\u001b[0m\u001b[0m\n\u001b[1;32m     22\u001b[0m \u001b[0;34m\u001b[0m\u001b[0m\n\u001b[0;32m---> 23\u001b[0;31m         \u001b[0mstats\u001b[0m \u001b[0;34m=\u001b[0m \u001b[0;34m'Epoch [%d/%d], Step [%d], Loss: %.4f'\u001b[0m \u001b[0;34m%\u001b[0m \u001b[0;34m(\u001b[0m\u001b[0mepoch\u001b[0m\u001b[0;34m,\u001b[0m \u001b[0mnum_epochs\u001b[0m\u001b[0;34m,\u001b[0m \u001b[0mi_step\u001b[0m\u001b[0;34m,\u001b[0m \u001b[0mloss\u001b[0m\u001b[0;34m.\u001b[0m\u001b[0mitem\u001b[0m\u001b[0;34m(\u001b[0m\u001b[0;34m)\u001b[0m\u001b[0;34m)\u001b[0m\u001b[0;34m\u001b[0m\u001b[0;34m\u001b[0m\u001b[0m\n\u001b[0m\u001b[1;32m     24\u001b[0m \u001b[0;34m\u001b[0m\u001b[0m\n\u001b[1;32m     25\u001b[0m \u001b[0;34m\u001b[0m\u001b[0m\n",
            "\u001b[0;31mKeyboardInterrupt\u001b[0m: "
          ]
        }
      ]
    },
    {
      "cell_type": "code",
      "source": [
        "data = next(iter(dataloader))\n",
        "plt.imshow(data['image'][0].permute(1,2,0))\n",
        "model.caption_image(data['image'][0].to(device).unsqueeze(0))"
      ],
      "metadata": {
        "id": "DBrW_d_rXj_L",
        "colab": {
          "base_uri": "https://localhost:8080/",
          "height": 304
        },
        "outputId": "e612e0eb-c6b0-4e3f-c216-73afe0ec9145"
      },
      "execution_count": 39,
      "outputs": [
        {
          "output_type": "stream",
          "name": "stderr",
          "text": [
            "Clipping input data to the valid range for imshow with RGB data ([0..1] for floats or [0..255] for integers).\n"
          ]
        },
        {
          "output_type": "execute_result",
          "data": {
            "text/plain": [
              "[' ', ' ', ' ', 'end']"
            ]
          },
          "metadata": {},
          "execution_count": 39
        },
        {
          "output_type": "display_data",
          "data": {
            "image/png": "[encoded data removed]",
            "text/plain": [
              "<Figure size 432x288 with 1 Axes>"
            ]
          },
          "metadata": {
            "needs_background": "light"
          }
        }
      ]
    }
  ],
  "metadata": {
    "colab": {
      "collapsed_sections": [
        "KL8MSjkqqvOt",
        "ibXEJEWCvFDG"
      ],
      "name": "Image_Captioner.ipynb",
      "provenance": []
    },
    "kernelspec": {
      "display_name": "Python 3",
      "name": "python3"
    },
    "language_info": {
      "name": "python"
    },
    "accelerator": "GPU"
  },
  "nbformat": 4,
  "nbformat_minor": 0
}