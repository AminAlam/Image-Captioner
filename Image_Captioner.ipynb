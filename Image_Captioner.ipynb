{
  "cells": [
    {
      "cell_type": "code",
      "execution_count": 1,
      "metadata": {
        "colab": {
          "base_uri": "https://localhost:8080/"
        },
        "id": "WT8IepblmV1U",
        "outputId": "dd150003-e5bb-4b74-9458-e0d86f8ac0f2"
      },
      "outputs": [
        {
          "output_type": "stream",
          "name": "stdout",
          "text": [
            "Drive already mounted at /content/drive; to attempt to forcibly remount, call drive.mount(\"/content/drive\", force_remount=True).\n"
          ]
        }
      ],
      "source": [
        "import matplotlib.pyplot as plt\n",
        "from matplotlib import cm\n",
        "import numpy as np\n",
        "import pandas as pd\n",
        "import string\n",
        "import re\n",
        "import spacy\n",
        "from collections import Counter\n",
        "import pickle\n",
        "from PIL import Image\n",
        "import torch\n",
        "from torchvision import transforms\n",
        "import torchtext\n",
        "from torch.utils.data import Dataset, DataLoader\n",
        "\n",
        "from google.colab import drive\n",
        "drive.mount('/content/drive')"
      ]
    },
    {
      "cell_type": "code",
      "source": [
        "# Setting device on GPU if available\n",
        "device = torch.device('cuda' if torch.cuda.is_available() else 'cpu')\n",
        "print('Using device:', device)\n",
        "print()\n",
        "\n",
        "if device.type == 'cuda':\n",
        "    print(torch.cuda.get_device_name(0))\n",
        "    print('Memory Usage:')\n",
        "    print('Allocated:', round(torch.cuda.memory_allocated(0)/1024**3,1), 'GB')\n",
        "    print('Cached:   ', round(torch.cuda.memory_cached(0)/1024**3,1), 'GB')\n",
        "\n",
        "torch.backends.cudnn.deterministic = True"
      ],
      "metadata": {
        "colab": {
          "base_uri": "https://localhost:8080/"
        },
        "id": "iq54f3wtASgj",
        "outputId": "f802bd5b-6e0d-4136-f6ad-ad4cf78ae581"
      },
      "execution_count": 2,
      "outputs": [
        {
          "output_type": "stream",
          "name": "stdout",
          "text": [
            "Using device: cpu\n",
            "\n"
          ]
        }
      ]
    },
    {
      "cell_type": "markdown",
      "metadata": {
        "id": "KL8MSjkqqvOt"
      },
      "source": [
        "#### Loading Images and Captions"
      ]
    },
    {
      "cell_type": "code",
      "execution_count": null,
      "metadata": {
        "id": "pXV4MGSZjse7"
      },
      "outputs": [],
      "source": [
        "with open('/content/drive/My Drive/Courses/DeepLearning/HW03/Q03/Datas/Flickr8k.token.txt') as f:\n",
        "    lines = f.readlines()\n",
        "caption_dict = {}\n",
        "image_dict = {}\n",
        "for i, line in enumerate(lines):\n",
        "  try:\n",
        "    image_path = line.split('#')[0]\n",
        "    caption = line.split('#')[1]\n",
        "    image = plt.imread(\"/content/drive/My Drive/Courses/DeepLearning/HW03/Q03/Datas/Flicker8k_Dataset/\"+image_path)\n",
        "    image_dict[image_path] = image\n",
        "    caption_dict[image_path] =  caption\n",
        "  except:\n",
        "    pass"
      ]
    },
    {
      "cell_type": "code",
      "execution_count": null,
      "metadata": {
        "id": "fVUebsz7EkD3"
      },
      "outputs": [],
      "source": [
        "with open('/content/drive/My Drive/Courses/DeepLearning/HW03/Q03/Datas/caption_dict.pkl', 'wb') as f:\n",
        "    pickle.dump(caption_dict, f)  # save it\n",
        "\n",
        "with open('/content/drive/My Drive/Courses/DeepLearning/HW03/Q03/Datas/image_dict.pkl', 'wb') as f:\n",
        "    pickle.dump(image_dict, f)  # save it"
      ]
    },
    {
      "cell_type": "code",
      "source": [
        "with open('/content/drive/My Drive/Courses/DeepLearning/HW03/Q03/Datas/caption_dict.pkl', 'rb') as f:\n",
        "    caption_dict = pickle.load(f) # load it\n",
        "\n",
        "with open('/content/drive/My Drive/Courses/DeepLearning/HW03/Q03/Datas/image_dict.pkl', 'rb') as f:\n",
        "    image_dict = pickle.load(f) # load it"
      ],
      "metadata": {
        "id": "QhLjE3Y-un7l"
      },
      "execution_count": null,
      "outputs": []
    },
    {
      "cell_type": "code",
      "execution_count": null,
      "metadata": {
        "id": "a3YmL0cXlVP1",
        "colab": {
          "base_uri": "https://localhost:8080/"
        },
        "outputId": "56db5264-17c1-46bd-de9c-b56dafc37d7f"
      },
      "outputs": [
        {
          "output_type": "execute_result",
          "data": {
            "text/html": [
              "\n",
              "  <div id=\"df-8694995a-6bef-494e-a900-14381a4a7335\">\n",
              "    <div class=\"colab-df-container\">\n",
              "      <div>\n",
              "<style scoped>\n",
              "    .dataframe tbody tr th:only-of-type {\n",
              "        vertical-align: middle;\n",
              "    }\n",
              "\n",
              "    .dataframe tbody tr th {\n",
              "        vertical-align: top;\n",
              "    }\n",
              "\n",
              "    .dataframe thead th {\n",
              "        text-align: right;\n",
              "    }\n",
              "</style>\n",
              "<table border=\"1\" class=\"dataframe\">\n",
              "  <thead>\n",
              "    <tr style=\"text-align: right;\">\n",
              "      <th></th>\n",
              "      <th>caption</th>\n",
              "      <th>image</th>\n",
              "    </tr>\n",
              "  </thead>\n",
              "  <tbody>\n",
              "    <tr>\n",
              "      <th>0</th>\n",
              "      <td>4\\tTwo dogs running through a low lying body o...</td>\n",
              "      <td>[[[38, 31, 25], [64, 50, 49], [78, 73, 67], [2...</td>\n",
              "    </tr>\n",
              "    <tr>\n",
              "      <th>1</th>\n",
              "      <td>4\\tThe little boy is playing with a croquet ha...</td>\n",
              "      <td>[[[254, 254, 254], [254, 254, 254], [254, 254,...</td>\n",
              "    </tr>\n",
              "    <tr>\n",
              "      <th>2</th>\n",
              "      <td>4\\tA dog with something pink in its mouth is l...</td>\n",
              "      <td>[[[146, 143, 154], [149, 143, 155], [153, 142,...</td>\n",
              "    </tr>\n",
              "    <tr>\n",
              "      <th>3</th>\n",
              "      <td>4\\tThe large brown dog is running on the beach...</td>\n",
              "      <td>[[[121, 158, 202], [117, 154, 198], [118, 155,...</td>\n",
              "    </tr>\n",
              "  </tbody>\n",
              "</table>\n",
              "</div>\n",
              "      <button class=\"colab-df-convert\" onclick=\"convertToInteractive('df-8694995a-6bef-494e-a900-14381a4a7335')\"\n",
              "              title=\"Convert this dataframe to an interactive table.\"\n",
              "              style=\"display:none;\">\n",
              "        \n",
              "  <svg xmlns=\"http://www.w3.org/2000/svg\" height=\"24px\"viewBox=\"0 0 24 24\"\n",
              "       width=\"24px\">\n",
              "    <path d=\"M0 0h24v24H0V0z\" fill=\"none\"/>\n",
              "    <path d=\"M18.56 5.44l.94 2.06.94-2.06 2.06-.94-2.06-.94-.94-2.06-.94 2.06-2.06.94zm-11 1L8.5 8.5l.94-2.06 2.06-.94-2.06-.94L8.5 2.5l-.94 2.06-2.06.94zm10 10l.94 2.06.94-2.06 2.06-.94-2.06-.94-.94-2.06-.94 2.06-2.06.94z\"/><path d=\"M17.41 7.96l-1.37-1.37c-.4-.4-.92-.59-1.43-.59-.52 0-1.04.2-1.43.59L10.3 9.45l-7.72 7.72c-.78.78-.78 2.05 0 2.83L4 21.41c.39.39.9.59 1.41.59.51 0 1.02-.2 1.41-.59l7.78-7.78 2.81-2.81c.8-.78.8-2.07 0-2.86zM5.41 20L4 18.59l7.72-7.72 1.47 1.35L5.41 20z\"/>\n",
              "  </svg>\n",
              "      </button>\n",
              "      \n",
              "  <style>\n",
              "    .colab-df-container {\n",
              "      display:flex;\n",
              "      flex-wrap:wrap;\n",
              "      gap: 12px;\n",
              "    }\n",
              "\n",
              "    .colab-df-convert {\n",
              "      background-color: #E8F0FE;\n",
              "      border: none;\n",
              "      border-radius: 50%;\n",
              "      cursor: pointer;\n",
              "      display: none;\n",
              "      fill: #1967D2;\n",
              "      height: 32px;\n",
              "      padding: 0 0 0 0;\n",
              "      width: 32px;\n",
              "    }\n",
              "\n",
              "    .colab-df-convert:hover {\n",
              "      background-color: #E2EBFA;\n",
              "      box-shadow: 0px 1px 2px rgba(60, 64, 67, 0.3), 0px 1px 3px 1px rgba(60, 64, 67, 0.15);\n",
              "      fill: #174EA6;\n",
              "    }\n",
              "\n",
              "    [theme=dark] .colab-df-convert {\n",
              "      background-color: #3B4455;\n",
              "      fill: #D2E3FC;\n",
              "    }\n",
              "\n",
              "    [theme=dark] .colab-df-convert:hover {\n",
              "      background-color: #434B5C;\n",
              "      box-shadow: 0px 1px 3px 1px rgba(0, 0, 0, 0.15);\n",
              "      filter: drop-shadow(0px 1px 2px rgba(0, 0, 0, 0.3));\n",
              "      fill: #FFFFFF;\n",
              "    }\n",
              "  </style>\n",
              "\n",
              "      <script>\n",
              "        const buttonEl =\n",
              "          document.querySelector('#df-8694995a-6bef-494e-a900-14381a4a7335 button.colab-df-convert');\n",
              "        buttonEl.style.display =\n",
              "          google.colab.kernel.accessAllowed ? 'block' : 'none';\n",
              "\n",
              "        async function convertToInteractive(key) {\n",
              "          const element = document.querySelector('#df-8694995a-6bef-494e-a900-14381a4a7335');\n",
              "          const dataTable =\n",
              "            await google.colab.kernel.invokeFunction('convertToInteractive',\n",
              "                                                     [key], {});\n",
              "          if (!dataTable) return;\n",
              "\n",
              "          const docLinkHtml = 'Like what you see? Visit the ' +\n",
              "            '<a target=\"_blank\" href=https://colab.research.google.com/notebooks/data_table.ipynb>data table notebook</a>'\n",
              "            + ' to learn more about interactive tables.';\n",
              "          element.innerHTML = '';\n",
              "          dataTable['output_type'] = 'display_data';\n",
              "          await google.colab.output.renderOutput(dataTable, element);\n",
              "          const docLink = document.createElement('div');\n",
              "          docLink.innerHTML = docLinkHtml;\n",
              "          element.appendChild(docLink);\n",
              "        }\n",
              "      </script>\n",
              "    </div>\n",
              "  </div>\n",
              "  "
            ],
            "text/plain": [
              "                                             caption                                              image\n",
              "0  4\\tTwo dogs running through a low lying body o...  [[[38, 31, 25], [64, 50, 49], [78, 73, 67], [2...\n",
              "1  4\\tThe little boy is playing with a croquet ha...  [[[254, 254, 254], [254, 254, 254], [254, 254,...\n",
              "2  4\\tA dog with something pink in its mouth is l...  [[[146, 143, 154], [149, 143, 155], [153, 142,...\n",
              "3  4\\tThe large brown dog is running on the beach...  [[[121, 158, 202], [117, 154, 198], [118, 155,..."
            ]
          },
          "metadata": {},
          "execution_count": 3
        }
      ],
      "source": [
        "# Train Datas\n",
        "with open('/content/drive/My Drive/Courses/DeepLearning/HW03/Q03/Datas/Flickr_8k.trainImages.txt') as f:\n",
        "  lines = f.readlines()\n",
        "datas = pd.DataFrame(columns=[\"caption\",\"image\"])\n",
        "\n",
        "for line in lines:\n",
        "  line = line.replace('\\n', '')\n",
        "  image = image_dict[line]\n",
        "  caption = caption_dict[line]\n",
        "  datas = datas.append({\"caption\":caption, \"image\":image}, ignore_index=True)\n",
        "\n",
        "# Test Datas\n",
        "with open('/content/drive/My Drive/Courses/DeepLearning/HW03/Q03/Datas/Flickr_8k.testImages.txt') as f:\n",
        "  lines = f.readlines()\n",
        "\n",
        "for line in lines:\n",
        "  line = line.replace('\\n', '')\n",
        "  image = image_dict[line]\n",
        "  caption = caption_dict[line]\n",
        "  datas = datas.append({\"caption\":caption, \"image\":image}, ignore_index=True)\n",
        "\n",
        "del caption_dict\n",
        "del image_dict\n",
        "datas.head(4)"
      ]
    },
    {
      "cell_type": "markdown",
      "metadata": {
        "id": "ibXEJEWCvFDG"
      },
      "source": [
        "#### Preprocessing the datas"
      ]
    },
    {
      "cell_type": "code",
      "execution_count": null,
      "metadata": {
        "id": "pFbMo9vgvCeF"
      },
      "outputs": [],
      "source": [
        "tok = spacy.load('en')\n",
        "def tokenize (text):\n",
        "    text = re.sub(r\"[^\\x00-\\x7F]+\", \" \", text)\n",
        "    regex = re.compile('[' + re.escape(string.punctuation) + '0-9\\\\r\\\\t\\\\n]')\n",
        "    nopunct = regex.sub(\" \", text.lower())\n",
        "    return [token.text for token in tok.tokenizer(nopunct)]"
      ]
    },
    {
      "cell_type": "code",
      "execution_count": null,
      "metadata": {
        "colab": {
          "base_uri": "https://localhost:8080/"
        },
        "id": "W-9z-eVkvcZw",
        "outputId": "a420fcce-8f24-42ee-b4a1-d88760b55c54"
      },
      "outputs": [
        {
          "output_type": "stream",
          "name": "stdout",
          "text": [
            "num_words before: 4079\n",
            "num_words after: 664\n"
          ]
        },
        {
          "output_type": "execute_result",
          "data": {
            "text/html": [
              "\n",
              "  <div id=\"df-7e327351-492e-4c62-824e-7ab0c5cb392f\">\n",
              "    <div class=\"colab-df-container\">\n",
              "      <div>\n",
              "<style scoped>\n",
              "    .dataframe tbody tr th:only-of-type {\n",
              "        vertical-align: middle;\n",
              "    }\n",
              "\n",
              "    .dataframe tbody tr th {\n",
              "        vertical-align: top;\n",
              "    }\n",
              "\n",
              "    .dataframe thead th {\n",
              "        text-align: right;\n",
              "    }\n",
              "</style>\n",
              "<table border=\"1\" class=\"dataframe\">\n",
              "  <thead>\n",
              "    <tr style=\"text-align: right;\">\n",
              "      <th></th>\n",
              "      <th>caption</th>\n",
              "      <th>image</th>\n",
              "    </tr>\n",
              "  </thead>\n",
              "  <tbody>\n",
              "    <tr>\n",
              "      <th>0</th>\n",
              "      <td>&lt;START&gt;Two dogs running through a low lying bo...</td>\n",
              "      <td>[[[38, 31, 25], [64, 50, 49], [78, 73, 67], [2...</td>\n",
              "    </tr>\n",
              "    <tr>\n",
              "      <th>1</th>\n",
              "      <td>&lt;START&gt;The little boy is playing with a croque...</td>\n",
              "      <td>[[[254, 254, 254], [254, 254, 254], [254, 254,...</td>\n",
              "    </tr>\n",
              "    <tr>\n",
              "      <th>2</th>\n",
              "      <td>&lt;START&gt;A dog with something pink in its mouth ...</td>\n",
              "      <td>[[[146, 143, 154], [149, 143, 155], [153, 142,...</td>\n",
              "    </tr>\n",
              "    <tr>\n",
              "      <th>3</th>\n",
              "      <td>&lt;START&gt;The large brown dog is running on the b...</td>\n",
              "      <td>[[[121, 158, 202], [117, 154, 198], [118, 155,...</td>\n",
              "    </tr>\n",
              "  </tbody>\n",
              "</table>\n",
              "</div>\n",
              "      <button class=\"colab-df-convert\" onclick=\"convertToInteractive('df-7e327351-492e-4c62-824e-7ab0c5cb392f')\"\n",
              "              title=\"Convert this dataframe to an interactive table.\"\n",
              "              style=\"display:none;\">\n",
              "        \n",
              "  <svg xmlns=\"http://www.w3.org/2000/svg\" height=\"24px\"viewBox=\"0 0 24 24\"\n",
              "       width=\"24px\">\n",
              "    <path d=\"M0 0h24v24H0V0z\" fill=\"none\"/>\n",
              "    <path d=\"M18.56 5.44l.94 2.06.94-2.06 2.06-.94-2.06-.94-.94-2.06-.94 2.06-2.06.94zm-11 1L8.5 8.5l.94-2.06 2.06-.94-2.06-.94L8.5 2.5l-.94 2.06-2.06.94zm10 10l.94 2.06.94-2.06 2.06-.94-2.06-.94-.94-2.06-.94 2.06-2.06.94z\"/><path d=\"M17.41 7.96l-1.37-1.37c-.4-.4-.92-.59-1.43-.59-.52 0-1.04.2-1.43.59L10.3 9.45l-7.72 7.72c-.78.78-.78 2.05 0 2.83L4 21.41c.39.39.9.59 1.41.59.51 0 1.02-.2 1.41-.59l7.78-7.78 2.81-2.81c.8-.78.8-2.07 0-2.86zM5.41 20L4 18.59l7.72-7.72 1.47 1.35L5.41 20z\"/>\n",
              "  </svg>\n",
              "      </button>\n",
              "      \n",
              "  <style>\n",
              "    .colab-df-container {\n",
              "      display:flex;\n",
              "      flex-wrap:wrap;\n",
              "      gap: 12px;\n",
              "    }\n",
              "\n",
              "    .colab-df-convert {\n",
              "      background-color: #E8F0FE;\n",
              "      border: none;\n",
              "      border-radius: 50%;\n",
              "      cursor: pointer;\n",
              "      display: none;\n",
              "      fill: #1967D2;\n",
              "      height: 32px;\n",
              "      padding: 0 0 0 0;\n",
              "      width: 32px;\n",
              "    }\n",
              "\n",
              "    .colab-df-convert:hover {\n",
              "      background-color: #E2EBFA;\n",
              "      box-shadow: 0px 1px 2px rgba(60, 64, 67, 0.3), 0px 1px 3px 1px rgba(60, 64, 67, 0.15);\n",
              "      fill: #174EA6;\n",
              "    }\n",
              "\n",
              "    [theme=dark] .colab-df-convert {\n",
              "      background-color: #3B4455;\n",
              "      fill: #D2E3FC;\n",
              "    }\n",
              "\n",
              "    [theme=dark] .colab-df-convert:hover {\n",
              "      background-color: #434B5C;\n",
              "      box-shadow: 0px 1px 3px 1px rgba(0, 0, 0, 0.15);\n",
              "      filter: drop-shadow(0px 1px 2px rgba(0, 0, 0, 0.3));\n",
              "      fill: #FFFFFF;\n",
              "    }\n",
              "  </style>\n",
              "\n",
              "      <script>\n",
              "        const buttonEl =\n",
              "          document.querySelector('#df-7e327351-492e-4c62-824e-7ab0c5cb392f button.colab-df-convert');\n",
              "        buttonEl.style.display =\n",
              "          google.colab.kernel.accessAllowed ? 'block' : 'none';\n",
              "\n",
              "        async function convertToInteractive(key) {\n",
              "          const element = document.querySelector('#df-7e327351-492e-4c62-824e-7ab0c5cb392f');\n",
              "          const dataTable =\n",
              "            await google.colab.kernel.invokeFunction('convertToInteractive',\n",
              "                                                     [key], {});\n",
              "          if (!dataTable) return;\n",
              "\n",
              "          const docLinkHtml = 'Like what you see? Visit the ' +\n",
              "            '<a target=\"_blank\" href=https://colab.research.google.com/notebooks/data_table.ipynb>data table notebook</a>'\n",
              "            + ' to learn more about interactive tables.';\n",
              "          element.innerHTML = '';\n",
              "          dataTable['output_type'] = 'display_data';\n",
              "          await google.colab.output.renderOutput(dataTable, element);\n",
              "          const docLink = document.createElement('div');\n",
              "          docLink.innerHTML = docLinkHtml;\n",
              "          element.appendChild(docLink);\n",
              "        }\n",
              "      </script>\n",
              "    </div>\n",
              "  </div>\n",
              "  "
            ],
            "text/plain": [
              "                                             caption                                              image\n",
              "0  <START>Two dogs running through a low lying bo...  [[[38, 31, 25], [64, 50, 49], [78, 73, 67], [2...\n",
              "1  <START>The little boy is playing with a croque...  [[[254, 254, 254], [254, 254, 254], [254, 254,...\n",
              "2  <START>A dog with something pink in its mouth ...  [[[146, 143, 154], [149, 143, 155], [153, 142,...\n",
              "3  <START>The large brown dog is running on the b...  [[[121, 158, 202], [117, 154, 198], [118, 155,..."
            ]
          },
          "metadata": {},
          "execution_count": 5
        }
      ],
      "source": [
        "# remove punctuation and numbers and unfrequent words\n",
        "datas_preprocessed = datas.copy()\n",
        "counts = Counter()\n",
        "for index, row in datas_preprocessed.iterrows():\n",
        "    counts.update(tokenize(row['caption']))\n",
        "\n",
        "print(\"num_words before:\",len(counts.keys()))\n",
        "for word in list(counts):\n",
        "    if counts[word] < 10:\n",
        "      datas_preprocessed['caption'] = datas_preprocessed['caption'].str.replace(\"\\b{0}\\b\".format(word), '')\n",
        "      del counts[word]\n",
        "\n",
        "punctuation = ['0', '1', '2', '3', '4', '5', '6', '7', '8', '9', '\\t',\"\\n\",'#','@','.',',','?','!',')', '(']\n",
        "for char in punctuation:\n",
        "    datas_preprocessed['caption'] = datas_preprocessed['caption'].str.replace(char, '')\n",
        "\n",
        "print(\"num_words after:\",len(counts.keys()))\n",
        "del datas\n",
        "del counts\n",
        "# adding <START> and <END> to the captions\n",
        "datas_preprocessed['caption'] = \"<START>\" + datas_preprocessed['caption'].astype(str) + \"<END>\"\n",
        "datas_preprocessed.head(4)"
      ]
    },
    {
      "cell_type": "code",
      "source": [
        "with open('/content/drive/My Drive/Courses/DeepLearning/HW03/Q03/Datas/datas_preprocessed.pkl', 'wb') as f:\n",
        "    pickle.dump(datas_preprocessed, f)  # save it"
      ],
      "metadata": {
        "id": "3M45r26j3U2_"
      },
      "execution_count": null,
      "outputs": []
    },
    {
      "cell_type": "code",
      "source": [
        "with open('/content/drive/My Drive/Courses/DeepLearning/HW03/Q03/Datas/datas_preprocessed.pkl', 'rb') as f:\n",
        "    datas_preprocessed = pickle.load(f) # load it"
      ],
      "metadata": {
        "id": "qlTiYabM3ScK"
      },
      "execution_count": null,
      "outputs": []
    },
    {
      "cell_type": "markdown",
      "source": [
        "#### Vectorizing the Images using pretrained Squeezenet (on ImageNet)"
      ],
      "metadata": {
        "id": "rv1xAzLHy6Ac"
      }
    },
    {
      "cell_type": "code",
      "source": [
        "squeezeNet = torch.hub.load('pytorch/vision:v0.10.0', 'squeezenet1_0', pretrained=True)\n",
        "squeezeNet.to(device)"
      ],
      "metadata": {
        "colab": {
          "base_uri": "https://localhost:8080/"
        },
        "id": "i-mCRaSswC79",
        "outputId": "e0c29dfc-7618-47b7-d12b-0d8289bd7058"
      },
      "execution_count": null,
      "outputs": [
        {
          "output_type": "stream",
          "name": "stderr",
          "text": [
            "Using cache found in /root/.cache/torch/hub/pytorch_vision_v0.10.0\n"
          ]
        },
        {
          "output_type": "execute_result",
          "data": {
            "text/plain": [
              "SqueezeNet(\n",
              "  (features): Sequential(\n",
              "    (0): Conv2d(3, 96, kernel_size=(7, 7), stride=(2, 2))\n",
              "    (1): ReLU(inplace=True)\n",
              "    (2): MaxPool2d(kernel_size=3, stride=2, padding=0, dilation=1, ceil_mode=True)\n",
              "    (3): Fire(\n",
              "      (squeeze): Conv2d(96, 16, kernel_size=(1, 1), stride=(1, 1))\n",
              "      (squeeze_activation): ReLU(inplace=True)\n",
              "      (expand1x1): Conv2d(16, 64, kernel_size=(1, 1), stride=(1, 1))\n",
              "      (expand1x1_activation): ReLU(inplace=True)\n",
              "      (expand3x3): Conv2d(16, 64, kernel_size=(3, 3), stride=(1, 1), padding=(1, 1))\n",
              "      (expand3x3_activation): ReLU(inplace=True)\n",
              "    )\n",
              "    (4): Fire(\n",
              "      (squeeze): Conv2d(128, 16, kernel_size=(1, 1), stride=(1, 1))\n",
              "      (squeeze_activation): ReLU(inplace=True)\n",
              "      (expand1x1): Conv2d(16, 64, kernel_size=(1, 1), stride=(1, 1))\n",
              "      (expand1x1_activation): ReLU(inplace=True)\n",
              "      (expand3x3): Conv2d(16, 64, kernel_size=(3, 3), stride=(1, 1), padding=(1, 1))\n",
              "      (expand3x3_activation): ReLU(inplace=True)\n",
              "    )\n",
              "    (5): Fire(\n",
              "      (squeeze): Conv2d(128, 32, kernel_size=(1, 1), stride=(1, 1))\n",
              "      (squeeze_activation): ReLU(inplace=True)\n",
              "      (expand1x1): Conv2d(32, 128, kernel_size=(1, 1), stride=(1, 1))\n",
              "      (expand1x1_activation): ReLU(inplace=True)\n",
              "      (expand3x3): Conv2d(32, 128, kernel_size=(3, 3), stride=(1, 1), padding=(1, 1))\n",
              "      (expand3x3_activation): ReLU(inplace=True)\n",
              "    )\n",
              "    (6): MaxPool2d(kernel_size=3, stride=2, padding=0, dilation=1, ceil_mode=True)\n",
              "    (7): Fire(\n",
              "      (squeeze): Conv2d(256, 32, kernel_size=(1, 1), stride=(1, 1))\n",
              "      (squeeze_activation): ReLU(inplace=True)\n",
              "      (expand1x1): Conv2d(32, 128, kernel_size=(1, 1), stride=(1, 1))\n",
              "      (expand1x1_activation): ReLU(inplace=True)\n",
              "      (expand3x3): Conv2d(32, 128, kernel_size=(3, 3), stride=(1, 1), padding=(1, 1))\n",
              "      (expand3x3_activation): ReLU(inplace=True)\n",
              "    )\n",
              "    (8): Fire(\n",
              "      (squeeze): Conv2d(256, 48, kernel_size=(1, 1), stride=(1, 1))\n",
              "      (squeeze_activation): ReLU(inplace=True)\n",
              "      (expand1x1): Conv2d(48, 192, kernel_size=(1, 1), stride=(1, 1))\n",
              "      (expand1x1_activation): ReLU(inplace=True)\n",
              "      (expand3x3): Conv2d(48, 192, kernel_size=(3, 3), stride=(1, 1), padding=(1, 1))\n",
              "      (expand3x3_activation): ReLU(inplace=True)\n",
              "    )\n",
              "    (9): Fire(\n",
              "      (squeeze): Conv2d(384, 48, kernel_size=(1, 1), stride=(1, 1))\n",
              "      (squeeze_activation): ReLU(inplace=True)\n",
              "      (expand1x1): Conv2d(48, 192, kernel_size=(1, 1), stride=(1, 1))\n",
              "      (expand1x1_activation): ReLU(inplace=True)\n",
              "      (expand3x3): Conv2d(48, 192, kernel_size=(3, 3), stride=(1, 1), padding=(1, 1))\n",
              "      (expand3x3_activation): ReLU(inplace=True)\n",
              "    )\n",
              "    (10): Fire(\n",
              "      (squeeze): Conv2d(384, 64, kernel_size=(1, 1), stride=(1, 1))\n",
              "      (squeeze_activation): ReLU(inplace=True)\n",
              "      (expand1x1): Conv2d(64, 256, kernel_size=(1, 1), stride=(1, 1))\n",
              "      (expand1x1_activation): ReLU(inplace=True)\n",
              "      (expand3x3): Conv2d(64, 256, kernel_size=(3, 3), stride=(1, 1), padding=(1, 1))\n",
              "      (expand3x3_activation): ReLU(inplace=True)\n",
              "    )\n",
              "    (11): MaxPool2d(kernel_size=3, stride=2, padding=0, dilation=1, ceil_mode=True)\n",
              "    (12): Fire(\n",
              "      (squeeze): Conv2d(512, 64, kernel_size=(1, 1), stride=(1, 1))\n",
              "      (squeeze_activation): ReLU(inplace=True)\n",
              "      (expand1x1): Conv2d(64, 256, kernel_size=(1, 1), stride=(1, 1))\n",
              "      (expand1x1_activation): ReLU(inplace=True)\n",
              "      (expand3x3): Conv2d(64, 256, kernel_size=(3, 3), stride=(1, 1), padding=(1, 1))\n",
              "      (expand3x3_activation): ReLU(inplace=True)\n",
              "    )\n",
              "  )\n",
              "  (classifier): Sequential(\n",
              "    (0): Dropout(p=0.5, inplace=False)\n",
              "    (1): Conv2d(512, 1000, kernel_size=(1, 1), stride=(1, 1))\n",
              "    (2): ReLU(inplace=True)\n",
              "    (3): AdaptiveAvgPool2d(output_size=(1, 1))\n",
              "  )\n",
              ")"
            ]
          },
          "metadata": {},
          "execution_count": 4
        }
      ]
    },
    {
      "cell_type": "code",
      "source": [
        "preprocess = transforms.Compose([\n",
        "    transforms.Resize([224,224]),\n",
        "])\n",
        "\n",
        "def squeezeOut(image):\n",
        "  input_image = image/255\n",
        "  input_image = torch.from_numpy(input_image).permute(2, 0, 1).float() \n",
        "\n",
        "  input_tensor = preprocess(input_image)\n",
        "  input_batch = input_tensor.unsqueeze(0)\n",
        "\n",
        "  input_batch = input_batch.to(device)\n",
        "  with torch.no_grad():\n",
        "    output = squeezeNet(input_batch)\n",
        "  probabilities = torch.nn.functional.softmax(output[0], dim=0)\n",
        "  return probabilities\n",
        "\n",
        "def encode(datas):\n",
        "  datas['vectorized'] = datas.apply(lambda row: squeezeOut(row['image']), axis=1)\n",
        "  return datas\n",
        "\n",
        "\n",
        "datas_preprocessed = encode(datas_preprocessed)"
      ],
      "metadata": {
        "id": "WafTioiozRZd"
      },
      "execution_count": null,
      "outputs": []
    },
    {
      "cell_type": "code",
      "source": [
        "datas_preprocessed.head(4)"
      ],
      "metadata": {
        "colab": {
          "base_uri": "https://localhost:8080/",
          "height": 175
        },
        "id": "cWnItGypDYip",
        "outputId": "0bad960e-7005-4f11-951f-954af8846fc7"
      },
      "execution_count": null,
      "outputs": [
        {
          "output_type": "execute_result",
          "data": {
            "text/html": [
              "\n",
              "  <div id=\"df-cc0d5208-08c0-44a9-998e-cd26cfb20dc4\">\n",
              "    <div class=\"colab-df-container\">\n",
              "      <div>\n",
              "<style scoped>\n",
              "    .dataframe tbody tr th:only-of-type {\n",
              "        vertical-align: middle;\n",
              "    }\n",
              "\n",
              "    .dataframe tbody tr th {\n",
              "        vertical-align: top;\n",
              "    }\n",
              "\n",
              "    .dataframe thead th {\n",
              "        text-align: right;\n",
              "    }\n",
              "</style>\n",
              "<table border=\"1\" class=\"dataframe\">\n",
              "  <thead>\n",
              "    <tr style=\"text-align: right;\">\n",
              "      <th></th>\n",
              "      <th>caption</th>\n",
              "      <th>image</th>\n",
              "      <th>vectorized</th>\n",
              "    </tr>\n",
              "  </thead>\n",
              "  <tbody>\n",
              "    <tr>\n",
              "      <th>0</th>\n",
              "      <td>&lt;START&gt;Two dogs running through a low lying bo...</td>\n",
              "      <td>[[[38, 31, 25], [64, 50, 49], [78, 73, 67], [2...</td>\n",
              "      <td>[tensor(1.6228e-06), tensor(1.6867e-06), tenso...</td>\n",
              "    </tr>\n",
              "    <tr>\n",
              "      <th>1</th>\n",
              "      <td>&lt;START&gt;The little boy is playing with a croque...</td>\n",
              "      <td>[[[254, 254, 254], [254, 254, 254], [254, 254,...</td>\n",
              "      <td>[tensor(0.0008), tensor(0.0010), tensor(0.0002...</td>\n",
              "    </tr>\n",
              "    <tr>\n",
              "      <th>2</th>\n",
              "      <td>&lt;START&gt;A dog with something pink in its mouth ...</td>\n",
              "      <td>[[[146, 143, 154], [149, 143, 155], [153, 142,...</td>\n",
              "      <td>[tensor(8.1646e-06), tensor(3.3554e-05), tenso...</td>\n",
              "    </tr>\n",
              "    <tr>\n",
              "      <th>3</th>\n",
              "      <td>&lt;START&gt;The large brown dog is running on the b...</td>\n",
              "      <td>[[[121, 158, 202], [117, 154, 198], [118, 155,...</td>\n",
              "      <td>[tensor(1.2193e-08), tensor(1.2519e-08), tenso...</td>\n",
              "    </tr>\n",
              "  </tbody>\n",
              "</table>\n",
              "</div>\n",
              "      <button class=\"colab-df-convert\" onclick=\"convertToInteractive('df-cc0d5208-08c0-44a9-998e-cd26cfb20dc4')\"\n",
              "              title=\"Convert this dataframe to an interactive table.\"\n",
              "              style=\"display:none;\">\n",
              "        \n",
              "  <svg xmlns=\"http://www.w3.org/2000/svg\" height=\"24px\"viewBox=\"0 0 24 24\"\n",
              "       width=\"24px\">\n",
              "    <path d=\"M0 0h24v24H0V0z\" fill=\"none\"/>\n",
              "    <path d=\"M18.56 5.44l.94 2.06.94-2.06 2.06-.94-2.06-.94-.94-2.06-.94 2.06-2.06.94zm-11 1L8.5 8.5l.94-2.06 2.06-.94-2.06-.94L8.5 2.5l-.94 2.06-2.06.94zm10 10l.94 2.06.94-2.06 2.06-.94-2.06-.94-.94-2.06-.94 2.06-2.06.94z\"/><path d=\"M17.41 7.96l-1.37-1.37c-.4-.4-.92-.59-1.43-.59-.52 0-1.04.2-1.43.59L10.3 9.45l-7.72 7.72c-.78.78-.78 2.05 0 2.83L4 21.41c.39.39.9.59 1.41.59.51 0 1.02-.2 1.41-.59l7.78-7.78 2.81-2.81c.8-.78.8-2.07 0-2.86zM5.41 20L4 18.59l7.72-7.72 1.47 1.35L5.41 20z\"/>\n",
              "  </svg>\n",
              "      </button>\n",
              "      \n",
              "  <style>\n",
              "    .colab-df-container {\n",
              "      display:flex;\n",
              "      flex-wrap:wrap;\n",
              "      gap: 12px;\n",
              "    }\n",
              "\n",
              "    .colab-df-convert {\n",
              "      background-color: #E8F0FE;\n",
              "      border: none;\n",
              "      border-radius: 50%;\n",
              "      cursor: pointer;\n",
              "      display: none;\n",
              "      fill: #1967D2;\n",
              "      height: 32px;\n",
              "      padding: 0 0 0 0;\n",
              "      width: 32px;\n",
              "    }\n",
              "\n",
              "    .colab-df-convert:hover {\n",
              "      background-color: #E2EBFA;\n",
              "      box-shadow: 0px 1px 2px rgba(60, 64, 67, 0.3), 0px 1px 3px 1px rgba(60, 64, 67, 0.15);\n",
              "      fill: #174EA6;\n",
              "    }\n",
              "\n",
              "    [theme=dark] .colab-df-convert {\n",
              "      background-color: #3B4455;\n",
              "      fill: #D2E3FC;\n",
              "    }\n",
              "\n",
              "    [theme=dark] .colab-df-convert:hover {\n",
              "      background-color: #434B5C;\n",
              "      box-shadow: 0px 1px 3px 1px rgba(0, 0, 0, 0.15);\n",
              "      filter: drop-shadow(0px 1px 2px rgba(0, 0, 0, 0.3));\n",
              "      fill: #FFFFFF;\n",
              "    }\n",
              "  </style>\n",
              "\n",
              "      <script>\n",
              "        const buttonEl =\n",
              "          document.querySelector('#df-cc0d5208-08c0-44a9-998e-cd26cfb20dc4 button.colab-df-convert');\n",
              "        buttonEl.style.display =\n",
              "          google.colab.kernel.accessAllowed ? 'block' : 'none';\n",
              "\n",
              "        async function convertToInteractive(key) {\n",
              "          const element = document.querySelector('#df-cc0d5208-08c0-44a9-998e-cd26cfb20dc4');\n",
              "          const dataTable =\n",
              "            await google.colab.kernel.invokeFunction('convertToInteractive',\n",
              "                                                     [key], {});\n",
              "          if (!dataTable) return;\n",
              "\n",
              "          const docLinkHtml = 'Like what you see? Visit the ' +\n",
              "            '<a target=\"_blank\" href=https://colab.research.google.com/notebooks/data_table.ipynb>data table notebook</a>'\n",
              "            + ' to learn more about interactive tables.';\n",
              "          element.innerHTML = '';\n",
              "          dataTable['output_type'] = 'display_data';\n",
              "          await google.colab.output.renderOutput(dataTable, element);\n",
              "          const docLink = document.createElement('div');\n",
              "          docLink.innerHTML = docLinkHtml;\n",
              "          element.appendChild(docLink);\n",
              "        }\n",
              "      </script>\n",
              "    </div>\n",
              "  </div>\n",
              "  "
            ],
            "text/plain": [
              "                                             caption  ...                                         vectorized\n",
              "0  <START>Two dogs running through a low lying bo...  ...  [tensor(1.6228e-06), tensor(1.6867e-06), tenso...\n",
              "1  <START>The little boy is playing with a croque...  ...  [tensor(0.0008), tensor(0.0010), tensor(0.0002...\n",
              "2  <START>A dog with something pink in its mouth ...  ...  [tensor(8.1646e-06), tensor(3.3554e-05), tenso...\n",
              "3  <START>The large brown dog is running on the b...  ...  [tensor(1.2193e-08), tensor(1.2519e-08), tenso...\n",
              "\n",
              "[4 rows x 3 columns]"
            ]
          },
          "metadata": {},
          "execution_count": 13
        }
      ]
    },
    {
      "cell_type": "code",
      "source": [
        "with open('/content/drive/My Drive/Courses/DeepLearning/HW03/Q03/Datas/datas_preprocessed.pkl', 'wb') as f:\n",
        "    pickle.dump(datas_preprocessed, f)  # save it"
      ],
      "metadata": {
        "id": "rd2qGeeX5V-Z"
      },
      "execution_count": null,
      "outputs": []
    },
    {
      "cell_type": "code",
      "source": [
        "with open('/content/drive/My Drive/Courses/DeepLearning/HW03/Q03/Datas/datas_preprocessed.pkl', 'rb') as f:\n",
        "    datas_preprocessed = pickle.load(f) # load it"
      ],
      "metadata": {
        "id": "VLuae84e5Gqk"
      },
      "execution_count": 3,
      "outputs": []
    },
    {
      "cell_type": "markdown",
      "source": [
        "#### Building Vocabulary"
      ],
      "metadata": {
        "id": "vcU0gwCB___J"
      }
    },
    {
      "cell_type": "code",
      "source": [
        "tok = spacy.load('en')\n",
        "def tokenize (text):\n",
        "    text = re.sub(r\"[^\\x00-\\x7F]+\", \" \", text)\n",
        "    regex = re.compile('[' + re.escape(string.punctuation) + '0-9\\\\r\\\\t\\\\n]') # remove punctuation and numbers\n",
        "    nopunct = regex.sub(\" \", text.lower())\n",
        "    return [token.text for token in tok.tokenizer(nopunct)]\n",
        "\n",
        "#count number of occurences of each word\n",
        "counts = Counter()\n",
        "for index, row in datas_preprocessed.iterrows():\n",
        "    counts.update(tokenize(row['caption']))\n",
        "\n",
        "#creating vocabulary\n",
        "vocab2index = {\"\":0, \"UNK\":1}\n",
        "insex2vocab = {0:\"\", 1:\"UNK\"}\n",
        "\n",
        "words = [\"\", \"UNK\"]\n",
        "for word in counts:\n",
        "    vocab2index[word] = len(words)\n",
        "    insex2vocab[len(words)] = word\n",
        "    words.append(word)\n",
        "\n",
        "def encode_sentence(text, vocab2index, N=70):\n",
        "    tokenized = tokenize(text)\n",
        "    encoded = np.zeros(N, dtype=int)\n",
        "    enc1 = np.array([vocab2index.get(word, vocab2index[\"UNK\"]) for word in tokenized])\n",
        "    length = min(N, len(enc1))\n",
        "    encoded[:length] = enc1[:length]\n",
        "    return encoded, length\n",
        "\n",
        "datas_preprocessed['encoded'] = datas_preprocessed['caption'].apply(lambda x: np.array(encode_sentence(x,vocab2index )))"
      ],
      "metadata": {
        "colab": {
          "base_uri": "https://localhost:8080/"
        },
        "id": "zGVFBxvZ4Kp3",
        "outputId": "22547c0a-80d5-418f-8d3b-83d0f3d472b6"
      },
      "execution_count": 4,
      "outputs": [
        {
          "output_type": "stream",
          "name": "stderr",
          "text": [
            "/usr/local/lib/python3.7/dist-packages/ipykernel_launcher.py:31: VisibleDeprecationWarning: Creating an ndarray from ragged nested sequences (which is a list-or-tuple of lists-or-tuples-or ndarrays with different lengths or shapes) is deprecated. If you meant to do this, you must specify 'dtype=object' when creating the ndarray\n"
          ]
        }
      ]
    },
    {
      "cell_type": "code",
      "source": [
        "datas_preprocessed.head(4)"
      ],
      "metadata": {
        "colab": {
          "base_uri": "https://localhost:8080/",
          "height": 175
        },
        "id": "hBcNfn4-T1vb",
        "outputId": "bc1bceba-6dd4-40f5-fa2c-c078aabeb235"
      },
      "execution_count": 5,
      "outputs": [
        {
          "output_type": "execute_result",
          "data": {
            "text/html": [
              "\n",
              "  <div id=\"df-42087476-405c-4591-ab31-d33b37bf51d5\">\n",
              "    <div class=\"colab-df-container\">\n",
              "      <div>\n",
              "<style scoped>\n",
              "    .dataframe tbody tr th:only-of-type {\n",
              "        vertical-align: middle;\n",
              "    }\n",
              "\n",
              "    .dataframe tbody tr th {\n",
              "        vertical-align: top;\n",
              "    }\n",
              "\n",
              "    .dataframe thead th {\n",
              "        text-align: right;\n",
              "    }\n",
              "</style>\n",
              "<table border=\"1\" class=\"dataframe\">\n",
              "  <thead>\n",
              "    <tr style=\"text-align: right;\">\n",
              "      <th></th>\n",
              "      <th>caption</th>\n",
              "      <th>image</th>\n",
              "      <th>vectorized</th>\n",
              "      <th>encoded</th>\n",
              "    </tr>\n",
              "  </thead>\n",
              "  <tbody>\n",
              "    <tr>\n",
              "      <th>0</th>\n",
              "      <td>&lt;START&gt;Two dogs running through a low lying bo...</td>\n",
              "      <td>[[[38, 31, 25], [64, 50, 49], [78, 73, 67], [2...</td>\n",
              "      <td>[tensor(1.6228e-06), tensor(1.6867e-06), tenso...</td>\n",
              "      <td>[[2, 3, 4, 5, 6, 7, 8, 9, 10, 11, 12, 13, 2, 1...</td>\n",
              "    </tr>\n",
              "    <tr>\n",
              "      <th>1</th>\n",
              "      <td>&lt;START&gt;The little boy is playing with a croque...</td>\n",
              "      <td>[[[254, 254, 254], [254, 254, 254], [254, 254,...</td>\n",
              "      <td>[tensor(0.0008), tensor(0.0010), tensor(0.0002...</td>\n",
              "      <td>[[2, 3, 15, 16, 17, 18, 19, 20, 8, 21, 22, 23,...</td>\n",
              "    </tr>\n",
              "    <tr>\n",
              "      <th>2</th>\n",
              "      <td>&lt;START&gt;A dog with something pink in its mouth ...</td>\n",
              "      <td>[[[146, 143, 154], [149, 143, 155], [153, 142,...</td>\n",
              "      <td>[tensor(8.1646e-06), tensor(3.3554e-05), tenso...</td>\n",
              "      <td>[[2, 3, 8, 27, 20, 28, 29, 30, 31, 32, 18, 33,...</td>\n",
              "    </tr>\n",
              "    <tr>\n",
              "      <th>3</th>\n",
              "      <td>&lt;START&gt;The large brown dog is running on the b...</td>\n",
              "      <td>[[[121, 158, 202], [117, 154, 198], [118, 155,...</td>\n",
              "      <td>[tensor(1.2193e-08), tensor(1.2519e-08), tenso...</td>\n",
              "      <td>[[2, 3, 15, 35, 36, 27, 18, 6, 37, 15, 38, 39,...</td>\n",
              "    </tr>\n",
              "  </tbody>\n",
              "</table>\n",
              "</div>\n",
              "      <button class=\"colab-df-convert\" onclick=\"convertToInteractive('df-42087476-405c-4591-ab31-d33b37bf51d5')\"\n",
              "              title=\"Convert this dataframe to an interactive table.\"\n",
              "              style=\"display:none;\">\n",
              "        \n",
              "  <svg xmlns=\"http://www.w3.org/2000/svg\" height=\"24px\"viewBox=\"0 0 24 24\"\n",
              "       width=\"24px\">\n",
              "    <path d=\"M0 0h24v24H0V0z\" fill=\"none\"/>\n",
              "    <path d=\"M18.56 5.44l.94 2.06.94-2.06 2.06-.94-2.06-.94-.94-2.06-.94 2.06-2.06.94zm-11 1L8.5 8.5l.94-2.06 2.06-.94-2.06-.94L8.5 2.5l-.94 2.06-2.06.94zm10 10l.94 2.06.94-2.06 2.06-.94-2.06-.94-.94-2.06-.94 2.06-2.06.94z\"/><path d=\"M17.41 7.96l-1.37-1.37c-.4-.4-.92-.59-1.43-.59-.52 0-1.04.2-1.43.59L10.3 9.45l-7.72 7.72c-.78.78-.78 2.05 0 2.83L4 21.41c.39.39.9.59 1.41.59.51 0 1.02-.2 1.41-.59l7.78-7.78 2.81-2.81c.8-.78.8-2.07 0-2.86zM5.41 20L4 18.59l7.72-7.72 1.47 1.35L5.41 20z\"/>\n",
              "  </svg>\n",
              "      </button>\n",
              "      \n",
              "  <style>\n",
              "    .colab-df-container {\n",
              "      display:flex;\n",
              "      flex-wrap:wrap;\n",
              "      gap: 12px;\n",
              "    }\n",
              "\n",
              "    .colab-df-convert {\n",
              "      background-color: #E8F0FE;\n",
              "      border: none;\n",
              "      border-radius: 50%;\n",
              "      cursor: pointer;\n",
              "      display: none;\n",
              "      fill: #1967D2;\n",
              "      height: 32px;\n",
              "      padding: 0 0 0 0;\n",
              "      width: 32px;\n",
              "    }\n",
              "\n",
              "    .colab-df-convert:hover {\n",
              "      background-color: #E2EBFA;\n",
              "      box-shadow: 0px 1px 2px rgba(60, 64, 67, 0.3), 0px 1px 3px 1px rgba(60, 64, 67, 0.15);\n",
              "      fill: #174EA6;\n",
              "    }\n",
              "\n",
              "    [theme=dark] .colab-df-convert {\n",
              "      background-color: #3B4455;\n",
              "      fill: #D2E3FC;\n",
              "    }\n",
              "\n",
              "    [theme=dark] .colab-df-convert:hover {\n",
              "      background-color: #434B5C;\n",
              "      box-shadow: 0px 1px 3px 1px rgba(0, 0, 0, 0.15);\n",
              "      filter: drop-shadow(0px 1px 2px rgba(0, 0, 0, 0.3));\n",
              "      fill: #FFFFFF;\n",
              "    }\n",
              "  </style>\n",
              "\n",
              "      <script>\n",
              "        const buttonEl =\n",
              "          document.querySelector('#df-42087476-405c-4591-ab31-d33b37bf51d5 button.colab-df-convert');\n",
              "        buttonEl.style.display =\n",
              "          google.colab.kernel.accessAllowed ? 'block' : 'none';\n",
              "\n",
              "        async function convertToInteractive(key) {\n",
              "          const element = document.querySelector('#df-42087476-405c-4591-ab31-d33b37bf51d5');\n",
              "          const dataTable =\n",
              "            await google.colab.kernel.invokeFunction('convertToInteractive',\n",
              "                                                     [key], {});\n",
              "          if (!dataTable) return;\n",
              "\n",
              "          const docLinkHtml = 'Like what you see? Visit the ' +\n",
              "            '<a target=\"_blank\" href=https://colab.research.google.com/notebooks/data_table.ipynb>data table notebook</a>'\n",
              "            + ' to learn more about interactive tables.';\n",
              "          element.innerHTML = '';\n",
              "          dataTable['output_type'] = 'display_data';\n",
              "          await google.colab.output.renderOutput(dataTable, element);\n",
              "          const docLink = document.createElement('div');\n",
              "          docLink.innerHTML = docLinkHtml;\n",
              "          element.appendChild(docLink);\n",
              "        }\n",
              "      </script>\n",
              "    </div>\n",
              "  </div>\n",
              "  "
            ],
            "text/plain": [
              "                                             caption  ...                                            encoded\n",
              "0  <START>Two dogs running through a low lying bo...  ...  [[2, 3, 4, 5, 6, 7, 8, 9, 10, 11, 12, 13, 2, 1...\n",
              "1  <START>The little boy is playing with a croque...  ...  [[2, 3, 15, 16, 17, 18, 19, 20, 8, 21, 22, 23,...\n",
              "2  <START>A dog with something pink in its mouth ...  ...  [[2, 3, 8, 27, 20, 28, 29, 30, 31, 32, 18, 33,...\n",
              "3  <START>The large brown dog is running on the b...  ...  [[2, 3, 15, 35, 36, 27, 18, 6, 37, 15, 38, 39,...\n",
              "\n",
              "[4 rows x 4 columns]"
            ]
          },
          "metadata": {},
          "execution_count": 5
        }
      ]
    },
    {
      "cell_type": "markdown",
      "source": [
        "#### Making Torch Dataloader"
      ],
      "metadata": {
        "id": "n618rtHlVJQt"
      }
    },
    {
      "cell_type": "code",
      "source": [
        "class Vector_Caption_Dataset(Dataset):\n",
        "\n",
        "    def __init__(self, dataframe):\n",
        "        self.dataframe = dataframe # load it\n",
        "\n",
        "    def __len__(self):\n",
        "        return len(self.dataframe)\n",
        "\n",
        "    def __getitem__(self, idx):\n",
        "\n",
        "        vectorized = self.dataframe['vectorized'][idx]\n",
        "        encoded = self.dataframe['encoded'][idx][0]\n",
        "        sample = {'vectorized': vectorized, 'encoded':encoded}\n",
        "        return sample\n",
        "\n",
        "vector_dataset = Vector_Caption_Dataset(datas_preprocessed)\n",
        "\n",
        "BATCH_SIZE = 64\n",
        "dataloader = DataLoader(vector_dataset, batch_size=BATCH_SIZE, shuffle=True, num_workers=0)"
      ],
      "metadata": {
        "id": "haOBVTP39Fie"
      },
      "execution_count": 6,
      "outputs": []
    },
    {
      "cell_type": "markdown",
      "source": [
        "#### implementing RNN"
      ],
      "metadata": {
        "id": "zkDBD2XDVNCp"
      }
    },
    {
      "cell_type": "code",
      "source": [
        "import torch \n",
        "import torch.nn as nn\n",
        "import torch.nn.functional as F\n",
        "import torch.optim as optim"
      ],
      "metadata": {
        "id": "Ml4yllGpW6OJ"
      },
      "execution_count": 7,
      "outputs": []
    },
    {
      "cell_type": "code",
      "source": [
        "class DecoderRNN(nn.Module):\n",
        "    def __init__(self, embed_size, hidden_size, vocab_size):\n",
        "        super().__init__()\n",
        "    \n",
        "        self.hidden_size = hidden_size\n",
        "        self.vocab_size = vocab_size\n",
        "        self.word_embeddings = nn.Embedding(vocab_size, embed_size)\n",
        "\n",
        "        self.lstm = nn.LSTM(input_size=embed_size, \\\n",
        "                            hidden_size=hidden_size, # LSTM hidden units \n",
        "                            num_layers=1, # number of LSTM layer\n",
        "                            bias=True, # use bias weights b_ih and b_hh\n",
        "                            batch_first=True,  # input & output will have batch size as 1st dimension\n",
        "                            dropout=0, # Not applying dropout \n",
        "                            bidirectional=False, # unidirectional LSTM\n",
        "                           )\n",
        "        \n",
        "\n",
        "        self.linear = nn.Linear(hidden_size, vocab_size)                     \n",
        "\n",
        "\n",
        "        \n",
        "    def init_hidden(self, batch_size):\n",
        "\n",
        "        return (torch.zeros((1, batch_size, self.hidden_size), device=device), \\\n",
        "                torch.zeros((1, batch_size, self.hidden_size), device=device))\n",
        "\n",
        "    def forward(self, features, captions):\n",
        "        \n",
        "        captions = captions[:, :-1]     \n",
        "        \n",
        "        self.batch_size = features.shape[0]\n",
        "        self.hidden = self.init_hidden(self.batch_size) \n",
        "                \n",
        "        embeddings = self.word_embeddings(captions)\n",
        "        \n",
        "        embeddings = torch.cat((features.unsqueeze(1), embeddings), dim=1) # embeddings new shape : (batch_size, caption length, embed_size)\n",
        "        \n",
        "\n",
        "        lstm_out, self.hidden = self.lstm(embeddings, self.hidden) # lstm_out shape : (batch_size, caption length, hidden_size)\n",
        "\n",
        "        outputs = self.linear(lstm_out) # outputs shape : (batch_size, caption length, vocab_size)\n",
        "\n",
        "        return outputs\n",
        "\n",
        "    def sample(self, inputs):\n",
        "        \" accepts pre-processed image tensor (inputs) and returns predicted sentence (list of tensor ids of length max_len) \"\n",
        "        \n",
        "        \n",
        "        output = []\n",
        "        batch_size = inputs.shape[0] # batch_size is 1 at inference, inputs shape : (1, 1, embed_size)\n",
        "        hidden = self.init_hidden(batch_size) # Get initial hidden state of the LSTM\n",
        "    \n",
        "        while True:\n",
        "            lstm_out, hidden = self.lstm(inputs, hidden) # lstm_out shape : (1, 1, hidden_size)\n",
        "            outputs = self.linear(lstm_out)  # outputs shape : (1, 1, vocab_size)\n",
        "            outputs = outputs.squeeze(1) # outputs shape : (1, vocab_size)\n",
        "            _, max_indice = torch.max(outputs, dim=1) # predict the most likely next word, max_indice shape : (1)\n",
        "            print(max_indice)\n",
        "            print(max_indice.cpu().numpy()[0].item())\n",
        "            output.append(max_indice.cpu().numpy()[0].item()) # storing the word predicted\n",
        "\n",
        "            if len(output) == 10:\n",
        "              break\n",
        "            \n",
        "            inputs = self.word_embeddings(max_indice) # inputs shape : (1, embed_size)\n",
        "            inputs = inputs.unsqueeze(1) # inputs shape : (1, 1, embed_size)\n",
        "            \n",
        "        return output\n",
        "\n",
        "\n",
        "\n",
        "\n",
        "    ## Beam search implementation (Attempt)\n",
        "    def beam_search_sample(self, inputs, beam=3):\n",
        "        output = []\n",
        "        self.batch_size = inputs.shape[0] # batch_size is 1 at inference, inputs shape : (1, 1, embed_size)\n",
        "        hidden = self.init_hidden(self.batch_size) # Get initial hidden state of the LSTM\n",
        "        \n",
        "        sequences = [[[torch.Tensor([0])], 1.0, hidden]]\n",
        "        max_len = 20\n",
        "\n",
        "        ## Step 1\n",
        "        # Predict the first word <start>\n",
        "        outputs, hidden = DecoderRNN.get_outputs(self, inputs, hidden)\n",
        "        _, max_indice = torch.max(outputs, dim=1) # predict the most likely next word, max_indice shape : (1)\n",
        "        output.append(max_indice.cpu().numpy()[0].item()) # storing the word predicted \n",
        "        # inputs = DecoderRNN.get_next_word_input(self, max_indice)\n",
        "        \n",
        "        \n",
        "        l = 0\n",
        "        while len(sequences[0][0]) < max_len: \n",
        "            print(\"l:\", l)\n",
        "            l+= 1\n",
        "            temp = []\n",
        "            for seq in sequences:\n",
        "#                 print(\"seq[0]: \", seq[0])\n",
        "                inputs = seq[0][-1] # last word index in seq\n",
        "                inputs = inputs.type(torch.cuda.LongTensor)\n",
        "                print(\"inputs : \", inputs)\n",
        "                # Embed the input word\n",
        "                inputs = self.word_embeddings(inputs) # inputs shape : (1, embed_size)\n",
        "                inputs = inputs.unsqueeze(1) # inputs shape : (1, 1, embed_size) \n",
        "                \n",
        "                # retrieve the hidden state\n",
        "                hidden = seq[2]\n",
        "                \n",
        "                preds, hidden = DecoderRNN.get_outputs(self, inputs, hidden)\n",
        "\n",
        "                # Getting the top <beam_index>(n) predictions\n",
        "                softmax_score = F.log_softmax(outputs, dim=1) # Define a function to sort the cumulative score\n",
        "                sorted_score, indices = torch.sort(-softmax_score, dim=1)\n",
        "                word_preds = indices[0][:beam]\n",
        "                best_scores = sorted_score[0][:beam]\n",
        "\n",
        "                # Creating a new list so as to put them via the model again\n",
        "                for i, w in enumerate(word_preds):\n",
        "#                     print(\"seq[0]: \", seq[0][0][:].cpu().numpy().item())\n",
        "                    next_cap, prob = seq[0][0].cpu().numpy().tolist(), seq[1]\n",
        "                    \n",
        "                    next_cap.append(w)\n",
        "                    print(\"next_cap : \", next_cap)\n",
        "                    prob *best_scores[i].cpu().item()\n",
        "                    temp.append([next_cap, prob])\n",
        "\n",
        "            sequences = temp\n",
        "            # Order according to proba\n",
        "            ordered = sorted(sequences, key=lambda tup: tup[1])\n",
        "\n",
        "            # Getting the top words\n",
        "            sequences = ordered[:beam]\n",
        "            print(\"sequences: \", sequences)\n",
        "\n",
        "    def get_outputs(self, inputs, hidden):\n",
        "        lstm_out, hidden = self.lstm(inputs, hidden) # lstm_out shape : (1, 1, hidden_size)\n",
        "        outputs = self.linear(lstm_out)  # outputs shape : (1, 1, vocab_size)\n",
        "        outputs = outputs.squeeze(1) # outputs shape : (1, vocab_size)\n",
        "\n",
        "        return outputs, hidden\n",
        "\n",
        "    def get_next_word_input(self, max_indice):\n",
        "        ## Prepare to embed the last predicted word to be the new input of the lstm\n",
        "        inputs = self.word_embeddings(max_indice) # inputs shape : (1, embed_size)\n",
        "        inputs = inputs.unsqueeze(1) # inputs shape : (1, 1, embed_size)\n",
        "\n",
        "        return inputs"
      ],
      "metadata": {
        "id": "iMu5cgXIRYpr"
      },
      "execution_count": 27,
      "outputs": []
    },
    {
      "cell_type": "code",
      "source": [
        "embed_size = 1000           # dimensionality of image and word embeddings\n",
        "hidden_size = 512          # number of features in hidden state of the RNN decoder\n",
        "vocab_size = len(vocab2index)\n",
        "\n",
        "decoder = DecoderRNN(embed_size, hidden_size, vocab_size)\n",
        "decoder.to(device)\n",
        "\n",
        "criterion = nn.CrossEntropyLoss()\n",
        "criterion.to(device)\n",
        "\n",
        "optimizer = torch.optim.Adam(decoder.parameters(), lr=0.001, betas=(0.9, 0.999), eps=1e-08)"
      ],
      "metadata": {
        "id": "dLSD8EQ6X4-0"
      },
      "execution_count": 28,
      "outputs": []
    },
    {
      "cell_type": "markdown",
      "source": [
        "#### Training"
      ],
      "metadata": {
        "id": "xfRQCz3_cljT"
      }
    },
    {
      "cell_type": "code",
      "source": [
        "num_epochs = 5\n",
        "print_every = 1\n",
        "for epoch in range(1, num_epochs+1):\n",
        "    \n",
        "    for i_step, data in enumerate(dataloader):\n",
        "        # Pass the inputs through the CNN-RNN model.\n",
        "        features = data['vectorized'].to(device)\n",
        "        captions = data['encoded'].to(device)\n",
        "        outputs = decoder(features, captions)\n",
        "        \n",
        "        loss = criterion(outputs.contiguous().view(-1, vocab_size), captions.view(-1))\n",
        "        loss.backward()\n",
        "        optimizer.step()\n",
        "            \n",
        "        stats = 'Epoch [%d/%d], Step [%d], Loss: %.4f, Perplexity: %5.4f' % (epoch, num_epochs, i_step, loss.item(), np.exp(loss.item()))\n",
        "        \n",
        "        \n",
        "        \n",
        "        # Print training statistics (on different line).\n",
        "        if i_step % print_every == 0:\n",
        "            print('\\r' + stats)"
      ],
      "metadata": {
        "colab": {
          "base_uri": "https://localhost:8080/",
          "height": 485
        },
        "id": "0ddK9GL9VksV",
        "outputId": "4a7b3383-cfa8-4b63-d953-af94450c60cd"
      },
      "execution_count": 32,
      "outputs": [
        {
          "output_type": "stream",
          "name": "stdout",
          "text": [
            "Epoch [1/5], Step [0], Loss: 4.0732, Perplexity: 58.7474\n",
            "Epoch [1/5], Step [1], Loss: 3.3342, Perplexity: 28.0549\n",
            "Epoch [1/5], Step [2], Loss: 2.6200, Perplexity: 13.7361\n",
            "Epoch [1/5], Step [3], Loss: 2.3717, Perplexity: 10.7158\n",
            "Epoch [1/5], Step [4], Loss: 2.0421, Perplexity: 7.7068\n",
            "Epoch [1/5], Step [5], Loss: 1.8355, Perplexity: 6.2681\n"
          ]
        },
        {
          "output_type": "error",
          "ename": "KeyboardInterrupt",
          "evalue": "ignored",
          "traceback": [
            "\u001b[0;31m---------------------------------------------------------------------------\u001b[0m",
            "\u001b[0;31mKeyboardInterrupt\u001b[0m                         Traceback (most recent call last)",
            "\u001b[0;32m<ipython-input-32-3eae75309991>\u001b[0m in \u001b[0;36m<module>\u001b[0;34m()\u001b[0m\n\u001b[1;32m     10\u001b[0m \u001b[0;34m\u001b[0m\u001b[0m\n\u001b[1;32m     11\u001b[0m         \u001b[0mloss\u001b[0m \u001b[0;34m=\u001b[0m \u001b[0mcriterion\u001b[0m\u001b[0;34m(\u001b[0m\u001b[0moutputs\u001b[0m\u001b[0;34m.\u001b[0m\u001b[0mcontiguous\u001b[0m\u001b[0;34m(\u001b[0m\u001b[0;34m)\u001b[0m\u001b[0;34m.\u001b[0m\u001b[0mview\u001b[0m\u001b[0;34m(\u001b[0m\u001b[0;34m-\u001b[0m\u001b[0;36m1\u001b[0m\u001b[0;34m,\u001b[0m \u001b[0mvocab_size\u001b[0m\u001b[0;34m)\u001b[0m\u001b[0;34m,\u001b[0m \u001b[0mcaptions\u001b[0m\u001b[0;34m.\u001b[0m\u001b[0mview\u001b[0m\u001b[0;34m(\u001b[0m\u001b[0;34m-\u001b[0m\u001b[0;36m1\u001b[0m\u001b[0;34m)\u001b[0m\u001b[0;34m)\u001b[0m\u001b[0;34m\u001b[0m\u001b[0;34m\u001b[0m\u001b[0m\n\u001b[0;32m---> 12\u001b[0;31m         \u001b[0mloss\u001b[0m\u001b[0;34m.\u001b[0m\u001b[0mbackward\u001b[0m\u001b[0;34m(\u001b[0m\u001b[0;34m)\u001b[0m\u001b[0;34m\u001b[0m\u001b[0;34m\u001b[0m\u001b[0m\n\u001b[0m\u001b[1;32m     13\u001b[0m         \u001b[0moptimizer\u001b[0m\u001b[0;34m.\u001b[0m\u001b[0mstep\u001b[0m\u001b[0;34m(\u001b[0m\u001b[0;34m)\u001b[0m\u001b[0;34m\u001b[0m\u001b[0;34m\u001b[0m\u001b[0m\n\u001b[1;32m     14\u001b[0m \u001b[0;34m\u001b[0m\u001b[0m\n",
            "\u001b[0;32m/usr/local/lib/python3.7/dist-packages/torch/_tensor.py\u001b[0m in \u001b[0;36mbackward\u001b[0;34m(self, gradient, retain_graph, create_graph, inputs)\u001b[0m\n\u001b[1;32m    305\u001b[0m                 \u001b[0mcreate_graph\u001b[0m\u001b[0;34m=\u001b[0m\u001b[0mcreate_graph\u001b[0m\u001b[0;34m,\u001b[0m\u001b[0;34m\u001b[0m\u001b[0;34m\u001b[0m\u001b[0m\n\u001b[1;32m    306\u001b[0m                 inputs=inputs)\n\u001b[0;32m--> 307\u001b[0;31m         \u001b[0mtorch\u001b[0m\u001b[0;34m.\u001b[0m\u001b[0mautograd\u001b[0m\u001b[0;34m.\u001b[0m\u001b[0mbackward\u001b[0m\u001b[0;34m(\u001b[0m\u001b[0mself\u001b[0m\u001b[0;34m,\u001b[0m \u001b[0mgradient\u001b[0m\u001b[0;34m,\u001b[0m \u001b[0mretain_graph\u001b[0m\u001b[0;34m,\u001b[0m \u001b[0mcreate_graph\u001b[0m\u001b[0;34m,\u001b[0m \u001b[0minputs\u001b[0m\u001b[0;34m=\u001b[0m\u001b[0minputs\u001b[0m\u001b[0;34m)\u001b[0m\u001b[0;34m\u001b[0m\u001b[0;34m\u001b[0m\u001b[0m\n\u001b[0m\u001b[1;32m    308\u001b[0m \u001b[0;34m\u001b[0m\u001b[0m\n\u001b[1;32m    309\u001b[0m     \u001b[0;32mdef\u001b[0m \u001b[0mregister_hook\u001b[0m\u001b[0;34m(\u001b[0m\u001b[0mself\u001b[0m\u001b[0;34m,\u001b[0m \u001b[0mhook\u001b[0m\u001b[0;34m)\u001b[0m\u001b[0;34m:\u001b[0m\u001b[0;34m\u001b[0m\u001b[0;34m\u001b[0m\u001b[0m\n",
            "\u001b[0;32m/usr/local/lib/python3.7/dist-packages/torch/autograd/__init__.py\u001b[0m in \u001b[0;36mbackward\u001b[0;34m(tensors, grad_tensors, retain_graph, create_graph, grad_variables, inputs)\u001b[0m\n\u001b[1;32m    154\u001b[0m     Variable._execution_engine.run_backward(\n\u001b[1;32m    155\u001b[0m         \u001b[0mtensors\u001b[0m\u001b[0;34m,\u001b[0m \u001b[0mgrad_tensors_\u001b[0m\u001b[0;34m,\u001b[0m \u001b[0mretain_graph\u001b[0m\u001b[0;34m,\u001b[0m \u001b[0mcreate_graph\u001b[0m\u001b[0;34m,\u001b[0m \u001b[0minputs\u001b[0m\u001b[0;34m,\u001b[0m\u001b[0;34m\u001b[0m\u001b[0;34m\u001b[0m\u001b[0m\n\u001b[0;32m--> 156\u001b[0;31m         allow_unreachable=True, accumulate_grad=True)  # allow_unreachable flag\n\u001b[0m\u001b[1;32m    157\u001b[0m \u001b[0;34m\u001b[0m\u001b[0m\n\u001b[1;32m    158\u001b[0m \u001b[0;34m\u001b[0m\u001b[0m\n",
            "\u001b[0;31mKeyboardInterrupt\u001b[0m: "
          ]
        }
      ]
    },
    {
      "cell_type": "code",
      "source": [
        "def clean_sentence(output):\n",
        "    list_string = []\n",
        "    \n",
        "    for idx in output:\n",
        "        list_string.append(insex2vocab[idx])\n",
        "    \n",
        "    list_string = list_string[1:-1] # Discard <start> and <end> words\n",
        "    sentence = ' '.join(list_string) # Convert list of string to full string\n",
        "    sentence = sentence.capitalize()  # Capitalize the first letter of the first word\n",
        "    return sentence"
      ],
      "metadata": {
        "id": "DBrW_d_rXj_L"
      },
      "execution_count": 24,
      "outputs": []
    },
    {
      "cell_type": "code",
      "source": [
        "def get_prediction():\n",
        "    data = next(iter(dataloader))\n",
        "    features = data['vectorized'].to(device).unsqueeze(1)\n",
        "    captions = data['encoded'].to(device)\n",
        "    output = decoder.sample(features)\n",
        "    print(output)  \n",
        "    sentence = clean_sentence(output)\n",
        "    print(sentence)"
      ],
      "metadata": {
        "id": "N5fe-ugxaxhN"
      },
      "execution_count": 25,
      "outputs": []
    },
    {
      "cell_type": "code",
      "source": [
        "get_prediction()"
      ],
      "metadata": {
        "colab": {
          "base_uri": "https://localhost:8080/"
        },
        "id": "6PojLa4RdMC7",
        "outputId": "d24f664c-e032-48e6-f943-db44c5b85ca6"
      },
      "execution_count": 33,
      "outputs": [
        {
          "output_type": "stream",
          "name": "stdout",
          "text": [
            "tensor([ 8,  8,  8,  8,  8,  8,  8,  8,  8,  8,  8,  8,  8,  8,  8,  8,  8,  8,\n",
            "         8,  8,  8,  8,  8,  8,  8, 70,  8,  8,  8,  8,  8,  8, 70, 70,  8,  8,\n",
            "         8,  8, 70, 70,  8,  8,  8,  8,  8,  8,  8,  8,  8,  8,  8,  8,  8,  8,\n",
            "         8,  8,  8,  8,  8,  8,  8,  8,  8,  8])\n",
            "8\n",
            "tensor([   2,    2,    2,    2,    2,    2,    2,    2,    2,    2,    2,    2,\n",
            "           2,    2,    2,    2,    2,    2,    2,    2,    2,    2,    2,    2,\n",
            "           2, 3846,    2,    2,    2,    2,    2,    2, 3846, 3846,    2,    2,\n",
            "           2,    2, 3846, 3846,    2,    2,    2,    2,    2,    2,    2,    2,\n",
            "           2,    2,    2,    2,    2,    2,    2,    2,    2,    2,    2,    2,\n",
            "           2,    2,    2,    2])\n",
            "2\n",
            "tensor([ 14,  14,  14,  14,  14,  14,  14,  14,  14,  14,  14,  14,  14,  14,\n",
            "         14,  14,  14,  14,  14,  14,  14,  14,  14,  14,  14, 714,  14,  14,\n",
            "         14,  14,  14,  14, 714, 714,  14,  14,  14,  14, 714, 714,  14,  14,\n",
            "         14,  14,  14,  14,  14,  14,  14,  14,  14,  14,  14,  14,  14,  14,\n",
            "         14,  14,  14,  14,  14,  14,  14,  14])\n",
            "14\n",
            "tensor([  0,   0,   0,   0,   0,   0,   0,   0,   0,   0,   0,   0,   0,   0,\n",
            "          0,   0,   0,   0,   0,   0,   0,   0,   0,   0,   0, 824,   0,   0,\n",
            "          0,   0,   0,   0, 824, 824,   0,   0,   0,   0, 824, 824,   0,   0,\n",
            "          0,   0,   0,   0,   0,   0,   0,   0,   0,   0,   0,   0,   0,   0,\n",
            "          0,   0,   0,   0,   0,   0,   0,   0])\n",
            "0\n",
            "tensor([0, 0, 0, 0, 0, 0, 0, 0, 0, 0, 0, 0, 0, 0, 0, 0, 0, 0, 0, 0, 0, 0, 0, 0,\n",
            "        0, 0, 0, 0, 0, 0, 0, 0, 0, 0, 0, 0, 0, 0, 0, 0, 0, 0, 0, 0, 0, 0, 0, 0,\n",
            "        0, 0, 0, 0, 0, 0, 0, 0, 0, 0, 0, 0, 0, 0, 0, 0])\n",
            "0\n",
            "tensor([0, 0, 0, 0, 0, 0, 0, 0, 0, 0, 0, 0, 0, 0, 0, 0, 0, 0, 0, 0, 0, 0, 0, 0,\n",
            "        0, 0, 0, 0, 0, 0, 0, 0, 0, 0, 0, 0, 0, 0, 0, 0, 0, 0, 0, 0, 0, 0, 0, 0,\n",
            "        0, 0, 0, 0, 0, 0, 0, 0, 0, 0, 0, 0, 0, 0, 0, 0])\n",
            "0\n",
            "tensor([0, 0, 0, 0, 0, 0, 0, 0, 0, 0, 0, 0, 0, 0, 0, 0, 0, 0, 0, 0, 0, 0, 0, 0,\n",
            "        0, 0, 0, 0, 0, 0, 0, 0, 0, 0, 0, 0, 0, 0, 0, 0, 0, 0, 0, 0, 0, 0, 0, 0,\n",
            "        0, 0, 0, 0, 0, 0, 0, 0, 0, 0, 0, 0, 0, 0, 0, 0])\n",
            "0\n",
            "tensor([0, 0, 0, 0, 0, 0, 0, 0, 0, 0, 0, 0, 0, 0, 0, 0, 0, 0, 0, 0, 0, 0, 0, 0,\n",
            "        0, 0, 0, 0, 0, 0, 0, 0, 0, 0, 0, 0, 0, 0, 0, 0, 0, 0, 0, 0, 0, 0, 0, 0,\n",
            "        0, 0, 0, 0, 0, 0, 0, 0, 0, 0, 0, 0, 0, 0, 0, 0])\n",
            "0\n",
            "tensor([0, 0, 0, 0, 0, 0, 0, 0, 0, 0, 0, 0, 0, 0, 0, 0, 0, 0, 0, 0, 0, 0, 0, 0,\n",
            "        0, 0, 0, 0, 0, 0, 0, 0, 0, 0, 0, 0, 0, 0, 0, 0, 0, 0, 0, 0, 0, 0, 0, 0,\n",
            "        0, 0, 0, 0, 0, 0, 0, 0, 0, 0, 0, 0, 0, 0, 0, 0])\n",
            "0\n",
            "tensor([0, 0, 0, 0, 0, 0, 0, 0, 0, 0, 0, 0, 0, 0, 0, 0, 0, 0, 0, 0, 0, 0, 0, 0,\n",
            "        0, 0, 0, 0, 0, 0, 0, 0, 0, 0, 0, 0, 0, 0, 0, 0, 0, 0, 0, 0, 0, 0, 0, 0,\n",
            "        0, 0, 0, 0, 0, 0, 0, 0, 0, 0, 0, 0, 0, 0, 0, 0])\n",
            "0\n",
            "[8, 2, 14, 0, 0, 0, 0, 0, 0, 0]\n",
            "  end      \n"
          ]
        }
      ]
    }
  ],
  "metadata": {
    "colab": {
      "collapsed_sections": [
        "KL8MSjkqqvOt"
      ],
      "name": "Image_Captioner.ipynb",
      "provenance": []
    },
    "kernelspec": {
      "display_name": "Python 3",
      "name": "python3"
    },
    "language_info": {
      "name": "python"
    }
  },
  "nbformat": 4,
  "nbformat_minor": 0
}